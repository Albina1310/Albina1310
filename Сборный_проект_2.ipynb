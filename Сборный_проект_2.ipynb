{
  "cells": [
    {
      "cell_type": "markdown",
      "metadata": {
        "id": "view-in-github",
        "colab_type": "text"
      },
      "source": [
        "<a href=\"https://colab.research.google.com/github/Albina1310/Albina1310/blob/main/%D0%A1%D0%B1%D0%BE%D1%80%D0%BD%D1%8B%D0%B9_%D0%BF%D1%80%D0%BE%D0%B5%D0%BA%D1%82_2.ipynb\" target=\"_parent\"><img src=\"https://colab.research.google.com/assets/colab-badge.svg\" alt=\"Open In Colab\"/></a>"
      ]
    },
    {
      "cell_type": "markdown",
      "metadata": {
        "id": "uF3jntib87ow"
      },
      "source": [
        "# Анализ поведения пользователей в мобильном приложении.\n",
        "\n",
        "**Задача:** понять, как ведут себя пользователи мобильного приложения.\n",
        "\n",
        "Необходимо изучить воронку продаж. Узнать, как пользователи доходят до покупки. Сколько пользователей доходит до покупки, а сколько — «застревает» на предыдущих шагах? На каких именно?\n",
        "Необходимо исследовать результаты **A/A/B-эксперимента** и выяснить какой шрифт лучше: Дизайнеры захотели поменять шрифты во всём приложении, а менеджеры испугались, что пользователям будет непривычно. Договорились принять решение по результатам A/A/B-теста. Пользователей разбили на 3 группы: 2 контрольные со старыми шрифтами и одну экспериментальную — с новыми.\n",
        "\n",
        "**Описание данных**\n",
        "\n",
        "Каждая запись в логе — это действие пользователя, или событие.\n",
        "- EventName — название события;\n",
        "- DeviceIDHash — уникальный идентификатор пользователя;\n",
        "- EventTimestamp — время события;\n",
        "- ExpId — номер эксперимента: 246 и 247 — контрольные группы, а 248 — экспериментальная.\n",
        "\n",
        "**План:**\n",
        "1. Откроем файл с данными и изучим общую информацию\n",
        "2. Подготовим данные (предобработка)\n",
        "3. Изучим и проверим данные\n",
        "4. Изучим воронку событий\n",
        "5. Изучим результаты эксперимента\n"
      ]
    },
    {
      "cell_type": "markdown",
      "metadata": {
        "id": "3ntn4aqx87oz"
      },
      "source": [
        "## Откроем файл с данными и изучим общую информацию"
      ]
    },
    {
      "cell_type": "code",
      "execution_count": null,
      "metadata": {
        "id": "ejVG38XM87o0"
      },
      "outputs": [],
      "source": [
        "import pandas as pd\n",
        "import scipy.stats as stats\n",
        "import datetime as dt\n",
        "from datetime import datetime, timedelta\n",
        "import numpy as np\n",
        "from scipy import stats as st\n",
        "import matplotlib.pyplot as plt\n",
        "from pandas.plotting import register_matplotlib_converters\n",
        "import math as mth\n",
        "import warnings\n",
        "\n",
        "warnings.filterwarnings('ignore')"
      ]
    },
    {
      "cell_type": "code",
      "execution_count": null,
      "metadata": {
        "id": "RccGBqeS87o1"
      },
      "outputs": [],
      "source": [
        "try:\n",
        "    df = pd.read_csv('logs_exp.csv')\n",
        "except:\n",
        "    df = pd.read_csv(\"/datasets/logs_exp.csv\", sep='\\t')"
      ]
    },
    {
      "cell_type": "code",
      "execution_count": null,
      "metadata": {
        "id": "4D9bSeu387o1",
        "outputId": "0b4d167d-bcf5-4857-c6d9-779f44ee64bb"
      },
      "outputs": [
        {
          "data": {
            "text/html": [
              "<div>\n",
              "<style scoped>\n",
              "    .dataframe tbody tr th:only-of-type {\n",
              "        vertical-align: middle;\n",
              "    }\n",
              "\n",
              "    .dataframe tbody tr th {\n",
              "        vertical-align: top;\n",
              "    }\n",
              "\n",
              "    .dataframe thead th {\n",
              "        text-align: right;\n",
              "    }\n",
              "</style>\n",
              "<table border=\"1\" class=\"dataframe\">\n",
              "  <thead>\n",
              "    <tr style=\"text-align: right;\">\n",
              "      <th></th>\n",
              "      <th>EventName</th>\n",
              "      <th>DeviceIDHash</th>\n",
              "      <th>EventTimestamp</th>\n",
              "      <th>ExpId</th>\n",
              "    </tr>\n",
              "  </thead>\n",
              "  <tbody>\n",
              "    <tr>\n",
              "      <th>0</th>\n",
              "      <td>MainScreenAppear</td>\n",
              "      <td>4575588528974610257</td>\n",
              "      <td>1564029816</td>\n",
              "      <td>246</td>\n",
              "    </tr>\n",
              "    <tr>\n",
              "      <th>1</th>\n",
              "      <td>MainScreenAppear</td>\n",
              "      <td>7416695313311560658</td>\n",
              "      <td>1564053102</td>\n",
              "      <td>246</td>\n",
              "    </tr>\n",
              "    <tr>\n",
              "      <th>2</th>\n",
              "      <td>PaymentScreenSuccessful</td>\n",
              "      <td>3518123091307005509</td>\n",
              "      <td>1564054127</td>\n",
              "      <td>248</td>\n",
              "    </tr>\n",
              "    <tr>\n",
              "      <th>3</th>\n",
              "      <td>CartScreenAppear</td>\n",
              "      <td>3518123091307005509</td>\n",
              "      <td>1564054127</td>\n",
              "      <td>248</td>\n",
              "    </tr>\n",
              "    <tr>\n",
              "      <th>4</th>\n",
              "      <td>PaymentScreenSuccessful</td>\n",
              "      <td>6217807653094995999</td>\n",
              "      <td>1564055322</td>\n",
              "      <td>248</td>\n",
              "    </tr>\n",
              "    <tr>\n",
              "      <th>...</th>\n",
              "      <td>...</td>\n",
              "      <td>...</td>\n",
              "      <td>...</td>\n",
              "      <td>...</td>\n",
              "    </tr>\n",
              "    <tr>\n",
              "      <th>244121</th>\n",
              "      <td>MainScreenAppear</td>\n",
              "      <td>4599628364049201812</td>\n",
              "      <td>1565212345</td>\n",
              "      <td>247</td>\n",
              "    </tr>\n",
              "    <tr>\n",
              "      <th>244122</th>\n",
              "      <td>MainScreenAppear</td>\n",
              "      <td>5849806612437486590</td>\n",
              "      <td>1565212439</td>\n",
              "      <td>246</td>\n",
              "    </tr>\n",
              "    <tr>\n",
              "      <th>244123</th>\n",
              "      <td>MainScreenAppear</td>\n",
              "      <td>5746969938801999050</td>\n",
              "      <td>1565212483</td>\n",
              "      <td>246</td>\n",
              "    </tr>\n",
              "    <tr>\n",
              "      <th>244124</th>\n",
              "      <td>MainScreenAppear</td>\n",
              "      <td>5746969938801999050</td>\n",
              "      <td>1565212498</td>\n",
              "      <td>246</td>\n",
              "    </tr>\n",
              "    <tr>\n",
              "      <th>244125</th>\n",
              "      <td>OffersScreenAppear</td>\n",
              "      <td>5746969938801999050</td>\n",
              "      <td>1565212517</td>\n",
              "      <td>246</td>\n",
              "    </tr>\n",
              "  </tbody>\n",
              "</table>\n",
              "<p>244126 rows × 4 columns</p>\n",
              "</div>"
            ],
            "text/plain": [
              "                      EventName         DeviceIDHash  EventTimestamp  ExpId\n",
              "0              MainScreenAppear  4575588528974610257      1564029816    246\n",
              "1              MainScreenAppear  7416695313311560658      1564053102    246\n",
              "2       PaymentScreenSuccessful  3518123091307005509      1564054127    248\n",
              "3              CartScreenAppear  3518123091307005509      1564054127    248\n",
              "4       PaymentScreenSuccessful  6217807653094995999      1564055322    248\n",
              "...                         ...                  ...             ...    ...\n",
              "244121         MainScreenAppear  4599628364049201812      1565212345    247\n",
              "244122         MainScreenAppear  5849806612437486590      1565212439    246\n",
              "244123         MainScreenAppear  5746969938801999050      1565212483    246\n",
              "244124         MainScreenAppear  5746969938801999050      1565212498    246\n",
              "244125       OffersScreenAppear  5746969938801999050      1565212517    246\n",
              "\n",
              "[244126 rows x 4 columns]"
            ]
          },
          "metadata": {},
          "output_type": "display_data"
        }
      ],
      "source": [
        "# посмотрим таблицу\n",
        "display(df)"
      ]
    },
    {
      "cell_type": "code",
      "execution_count": null,
      "metadata": {
        "id": "vimMATtM87o2",
        "outputId": "cb9ed216-346b-4485-8803-7ea9db3dd9b2"
      },
      "outputs": [
        {
          "name": "stdout",
          "output_type": "stream",
          "text": [
            "<class 'pandas.core.frame.DataFrame'>\n",
            "RangeIndex: 244126 entries, 0 to 244125\n",
            "Data columns (total 4 columns):\n",
            " #   Column          Non-Null Count   Dtype \n",
            "---  ------          --------------   ----- \n",
            " 0   EventName       244126 non-null  object\n",
            " 1   DeviceIDHash    244126 non-null  int64 \n",
            " 2   EventTimestamp  244126 non-null  int64 \n",
            " 3   ExpId           244126 non-null  int64 \n",
            "dtypes: int64(3), object(1)\n",
            "memory usage: 7.5+ MB\n"
          ]
        }
      ],
      "source": [
        "df.info()"
      ]
    },
    {
      "cell_type": "markdown",
      "metadata": {
        "id": "fsQiUsJW87o2"
      },
      "source": [
        "В данных более 244 тыс.записей событий. Видим, что дата стоит в \"int\", а нужно в типе \"datetime\", поэтому далее изменим в нужный нам тип данных и дабавим отдельный столбец с датой. Также изменим названия столбцов для удобного понимания и просмотра таблицы. Пропусков на первый взгляд нет, но мы это проверим в следующем шаге."
      ]
    },
    {
      "cell_type": "markdown",
      "metadata": {
        "id": "4LTcvx0T87o2"
      },
      "source": [
        "## Подготовим данные"
      ]
    },
    {
      "cell_type": "code",
      "execution_count": null,
      "metadata": {
        "id": "lBoxTdW187o3",
        "outputId": "8592fc38-d8da-4aaa-d9cb-4fe039d11bbf"
      },
      "outputs": [
        {
          "name": "stdout",
          "output_type": "stream",
          "text": [
            "Количество пропусков в таблице:\n",
            "EventName         0\n",
            "DeviceIDHash      0\n",
            "EventTimestamp    0\n",
            "ExpId             0\n",
            "dtype: int64\n",
            "Количество дубликатов в таблице: 413\n"
          ]
        }
      ],
      "source": [
        "# проверяем на количество пропусков и дубликатов\n",
        "print(f'Количество пропусков в таблице:\\n{df.isna().sum()}')\n",
        "print(f'Количество дубликатов в таблице: {df.duplicated().sum()}')"
      ]
    },
    {
      "cell_type": "code",
      "execution_count": null,
      "metadata": {
        "id": "vxV1X3UI87o3"
      },
      "outputs": [],
      "source": [
        "# удалим явные дубликаты\n",
        "df = df.drop_duplicates()"
      ]
    },
    {
      "cell_type": "code",
      "execution_count": null,
      "metadata": {
        "id": "Ab966GDI87o3",
        "outputId": "c834e1cf-d075-45fb-dd92-ac24bf4685ea"
      },
      "outputs": [
        {
          "data": {
            "text/plain": [
              "array(['MainScreenAppear', 'PaymentScreenSuccessful', 'CartScreenAppear',\n",
              "       'OffersScreenAppear', 'Tutorial'], dtype=object)"
            ]
          },
          "execution_count": 60,
          "metadata": {},
          "output_type": "execute_result"
        }
      ],
      "source": [
        "# посмотрим на неявные дубликаты в колонке \"EventName\" с названиями событий\n",
        "df['EventName'].unique()"
      ]
    },
    {
      "cell_type": "markdown",
      "metadata": {
        "id": "heSsb9Ei87o4"
      },
      "source": [
        "Дубликатов явных и неявных больше нет."
      ]
    },
    {
      "cell_type": "code",
      "execution_count": null,
      "metadata": {
        "id": "zis9lgdr87o4"
      },
      "outputs": [],
      "source": [
        "# меняем названия  колонок в таблице\n",
        "df = df.rename(columns = {'EventName': 'event_name', 'DeviceIDHash': 'user_id', 'EventTimestamp': 'event_date', 'ExpId': 'exp_id'})"
      ]
    },
    {
      "cell_type": "code",
      "execution_count": null,
      "metadata": {
        "id": "qQg_Bs1687o4",
        "outputId": "78c10c52-6d96-4759-fb1d-551bd15413f2"
      },
      "outputs": [
        {
          "data": {
            "text/html": [
              "<div>\n",
              "<style scoped>\n",
              "    .dataframe tbody tr th:only-of-type {\n",
              "        vertical-align: middle;\n",
              "    }\n",
              "\n",
              "    .dataframe tbody tr th {\n",
              "        vertical-align: top;\n",
              "    }\n",
              "\n",
              "    .dataframe thead th {\n",
              "        text-align: right;\n",
              "    }\n",
              "</style>\n",
              "<table border=\"1\" class=\"dataframe\">\n",
              "  <thead>\n",
              "    <tr style=\"text-align: right;\">\n",
              "      <th></th>\n",
              "      <th>event_name</th>\n",
              "      <th>user_id</th>\n",
              "      <th>event_date</th>\n",
              "      <th>exp_id</th>\n",
              "      <th>date</th>\n",
              "    </tr>\n",
              "  </thead>\n",
              "  <tbody>\n",
              "    <tr>\n",
              "      <th>0</th>\n",
              "      <td>MainScreenAppear</td>\n",
              "      <td>4575588528974610257</td>\n",
              "      <td>2019-07-25 04:43:36</td>\n",
              "      <td>246</td>\n",
              "      <td>2019-07-25</td>\n",
              "    </tr>\n",
              "    <tr>\n",
              "      <th>1</th>\n",
              "      <td>MainScreenAppear</td>\n",
              "      <td>7416695313311560658</td>\n",
              "      <td>2019-07-25 11:11:42</td>\n",
              "      <td>246</td>\n",
              "      <td>2019-07-25</td>\n",
              "    </tr>\n",
              "    <tr>\n",
              "      <th>2</th>\n",
              "      <td>PaymentScreenSuccessful</td>\n",
              "      <td>3518123091307005509</td>\n",
              "      <td>2019-07-25 11:28:47</td>\n",
              "      <td>248</td>\n",
              "      <td>2019-07-25</td>\n",
              "    </tr>\n",
              "    <tr>\n",
              "      <th>3</th>\n",
              "      <td>CartScreenAppear</td>\n",
              "      <td>3518123091307005509</td>\n",
              "      <td>2019-07-25 11:28:47</td>\n",
              "      <td>248</td>\n",
              "      <td>2019-07-25</td>\n",
              "    </tr>\n",
              "    <tr>\n",
              "      <th>4</th>\n",
              "      <td>PaymentScreenSuccessful</td>\n",
              "      <td>6217807653094995999</td>\n",
              "      <td>2019-07-25 11:48:42</td>\n",
              "      <td>248</td>\n",
              "      <td>2019-07-25</td>\n",
              "    </tr>\n",
              "  </tbody>\n",
              "</table>\n",
              "</div>"
            ],
            "text/plain": [
              "                event_name              user_id          event_date  exp_id  \\\n",
              "0         MainScreenAppear  4575588528974610257 2019-07-25 04:43:36     246   \n",
              "1         MainScreenAppear  7416695313311560658 2019-07-25 11:11:42     246   \n",
              "2  PaymentScreenSuccessful  3518123091307005509 2019-07-25 11:28:47     248   \n",
              "3         CartScreenAppear  3518123091307005509 2019-07-25 11:28:47     248   \n",
              "4  PaymentScreenSuccessful  6217807653094995999 2019-07-25 11:48:42     248   \n",
              "\n",
              "         date  \n",
              "0  2019-07-25  \n",
              "1  2019-07-25  \n",
              "2  2019-07-25  \n",
              "3  2019-07-25  \n",
              "4  2019-07-25  "
            ]
          },
          "metadata": {},
          "output_type": "display_data"
        }
      ],
      "source": [
        "# поменяем типы данных в столбце с датой события\n",
        "df['event_date'] = pd.to_datetime(df['event_date'], unit='s')\n",
        "\n",
        "# добавим отдельный столбец с датой\n",
        "df['date'] = df['event_date'].dt.date\n",
        "display(df.head())"
      ]
    },
    {
      "cell_type": "markdown",
      "metadata": {
        "id": "kclWm_eC87o4"
      },
      "source": [
        "**Вывод:** Данные подготовили к дальнейшим действиям. Названия колонок теперь читаемы и понятны. Дубликаты убрали, чтобы корректно проанализировать данные. Типы данных соответствуют требуемым, также отдельно добавили столбец с датой для удобства анализа."
      ]
    },
    {
      "cell_type": "markdown",
      "metadata": {
        "id": "3KNf9u9287o4"
      },
      "source": [
        "## Изучим и проверим данные"
      ]
    },
    {
      "cell_type": "code",
      "execution_count": null,
      "metadata": {
        "id": "w9UazJ2P87o4",
        "outputId": "c2c7339f-3162-415e-ae22-8c53884ca858"
      },
      "outputs": [
        {
          "name": "stdout",
          "output_type": "stream",
          "text": [
            "Всего уникальных событий в колонке \"event_name\": 5\n"
          ]
        }
      ],
      "source": [
        "# посмотрим сколько всего событий в логе\n",
        "print('Всего уникальных событий в колонке \"event_name\":', df['event_name'].nunique())"
      ]
    },
    {
      "cell_type": "code",
      "execution_count": null,
      "metadata": {
        "id": "7V4hwv_q87o5",
        "outputId": "28091f60-9faf-4953-8c8e-28e54e4209be"
      },
      "outputs": [
        {
          "name": "stdout",
          "output_type": "stream",
          "text": [
            "Всего уникальных пользователей в колонке \"user_id\": 7551\n"
          ]
        }
      ],
      "source": [
        "# посмотрим сколько пользователдей в логе\n",
        "print('Всего уникальных пользователей в колонке \"user_id\":', df['user_id'].nunique())"
      ]
    },
    {
      "cell_type": "code",
      "execution_count": null,
      "metadata": {
        "id": "Ifu5aaDv87o5",
        "outputId": "612b2069-eace-421f-9f67-d20a054e6fa8"
      },
      "outputs": [
        {
          "name": "stdout",
          "output_type": "stream",
          "text": [
            "Среднее количество событий на одного пользователя: 32\n"
          ]
        }
      ],
      "source": [
        "# посмотрим сколько в среднем приходится событий на одного пользователя\n",
        "print('Среднее количество событий на одного пользователя:', round(df['event_name'].count()/df['user_id'].nunique()))"
      ]
    },
    {
      "cell_type": "code",
      "execution_count": null,
      "metadata": {
        "id": "P-_hoeGr87o5",
        "outputId": "468769d0-6109-4953-aea6-89fccdfef351"
      },
      "outputs": [
        {
          "name": "stdout",
          "output_type": "stream",
          "text": [
            "Данные предоставлены с 2019-07-25 по 2019-08-07\n"
          ]
        }
      ],
      "source": [
        "# посмотрим за какой период предоставлены данные\n",
        "max_date = df['date'].max()\n",
        "min_data =  df['date'].min()\n",
        "print(f'Данные предоставлены с {min_data} по {max_date}')"
      ]
    },
    {
      "cell_type": "markdown",
      "metadata": {
        "id": "etk53YLY87o5"
      },
      "source": [
        "Мы располагаем данными за 2 недели: с 25 июля 2019 года по 7 августа 2019 года. Построим график для понимания как события расположились по датам, одинаково ли данные распределены за весь период."
      ]
    },
    {
      "cell_type": "code",
      "execution_count": null,
      "metadata": {
        "id": "yjPiti0E87o5",
        "outputId": "7a6627e6-9722-414e-ee5b-f9a6e97bbbef"
      },
      "outputs": [
        {
          "data": {
            "image/png": "[encoded data removed]",
            "text/plain": [
              "<Figure size 504x360 with 1 Axes>"
            ]
          },
          "metadata": {
            "needs_background": "light"
          },
          "output_type": "display_data"
        }
      ],
      "source": [
        "# построим гистограмму по дате\n",
        "df['date'].hist(bins=14, figsize=(7, 5)).set_title('Гистограмма по дате')\n",
        "plt.ylabel(\"Количество событий\")\n",
        "plt.xlabel(\"Дата\")\n",
        "plt.xticks(rotation=40)\n",
        "plt.show()"
      ]
    },
    {
      "cell_type": "markdown",
      "metadata": {
        "id": "8V5vGZF687o5"
      },
      "source": [
        "Технически в логи новых дней по некоторым пользователям могут «доезжать» события из прошлого — это может «перекашивать данные»,  что мы и видим по графику. То есть на самом деле мы **располагаем данными с 1 - 7 августа 2019 года.** Не вошедшие в этот период мы отбросим и сохраним **в новом датафрейме \"df_new\"** - все что до 2019-08-01 уберем."
      ]
    },
    {
      "cell_type": "code",
      "execution_count": null,
      "metadata": {
        "id": "ZJ_Pa8Wx87o6",
        "outputId": "3d386e9c-8b3c-4227-ae3a-e10578df8eee"
      },
      "outputs": [
        {
          "name": "stdout",
          "output_type": "stream",
          "text": [
            "Потеряли в логе событий в количестве - 2826 , то есть осталось 98.8 процентов данных.\n"
          ]
        }
      ],
      "source": [
        "# отбросим данные до первого августа\n",
        "df['date'] = pd.to_datetime(df['date'])\n",
        "df_new = df.query('date > \"2019-07-31\"')\n",
        "\n",
        "# проверим сколько данных ушло\n",
        "print('Потеряли в логе событий в количестве -', (df.shape[0] - df_new.shape[0]),', то есть осталось', (round((df_new.shape[0] / df.shape[0]*100), 1)),'процентов данных.')"
      ]
    },
    {
      "cell_type": "markdown",
      "metadata": {
        "id": "z-M47UBK87o6"
      },
      "source": [
        "Получается всего ушло 1,2% от общих данных. В целом можно считать, что на анализ в дальнейшем не повлияет это удаление, так как данных было убрано немного. Посмотрим сколько пользователей с данными ушло."
      ]
    },
    {
      "cell_type": "code",
      "execution_count": null,
      "metadata": {
        "id": "3Rt4AfLj87o6",
        "outputId": "6bbf05a1-6ac3-4295-ced1-af61dc894b7d"
      },
      "outputs": [
        {
          "name": "stdout",
          "output_type": "stream",
          "text": [
            "Всего осталось уникальных пользователей в колонке \"user_id\": 7534\n",
            "Потеряли пользователей в количестве - 17\n"
          ]
        }
      ],
      "source": [
        "# посмотрим сколько пользователдей в логе осталось\n",
        "print('Всего осталось уникальных пользователей в колонке \"user_id\":', df_new['user_id'].nunique())\n",
        "print('Потеряли пользователей в количестве -', (df['user_id'].nunique() - df_new['user_id'].nunique()))"
      ]
    },
    {
      "cell_type": "code",
      "execution_count": null,
      "metadata": {
        "id": "KBtKn2LJ87o6",
        "outputId": "558a6734-206a-4009-e275-bfea2deca524"
      },
      "outputs": [
        {
          "data": {
            "text/plain": [
              "exp_id\n",
              "246    2484\n",
              "247    2513\n",
              "248    2537\n",
              "Name: user_id, dtype: int64"
            ]
          },
          "metadata": {},
          "output_type": "display_data"
        },
        {
          "name": "stdout",
          "output_type": "stream",
          "text": [
            "[]\n",
            "\n"
          ]
        }
      ],
      "source": [
        "# посмотрим как распределены пользователи по группам\n",
        "display(df_new.groupby('exp_id')['user_id'].nunique())\n",
        "\n",
        "# посмотрим есть ли пользователи, участвовавшие в 3-х группах сразу\n",
        "result = df_new.groupby('user_id')['exp_id'].apply(lambda x: set(x).issuperset({'246', '247', '248'}))\n",
        "print(result[result == True].index.tolist())\n",
        "print()"
      ]
    },
    {
      "cell_type": "code",
      "execution_count": null,
      "metadata": {
        "id": "kAqwSIjB87o6",
        "outputId": "f5b1d13f-5a33-4f66-a950-fff9b5ad8fbb"
      },
      "outputs": [
        {
          "name": "stdout",
          "output_type": "stream",
          "text": [
            "На 2.09 % группа \"248\" больше группу \"246\" по количеству уникальных пользователей\n"
          ]
        }
      ],
      "source": [
        "# насколько группа 248 больше по количеству пользователей по сравнению с группой 246\n",
        "print('На', round((100-(2484/2537*100)), 2),'% группа \"248\" больше группу \"246\" по количеству уникальных пользователей')"
      ]
    },
    {
      "cell_type": "markdown",
      "metadata": {
        "id": "e9H1VhsH87o6"
      },
      "source": [
        "**Вывод:** Изучив данные мы выявили 5 событий в логе и 7551 пользователя. Но построив гистограмму по дате, обнаружили события из прошлых дней - в количестве 2826. Мы их убрали и создали новую таблицу, куда входят данные с 1-7 августа. Потеряли 17 пользователей и осталось 7534. В целом нами убрано 1,2% данных, что не повлияет на анализ в дальнейшем. Также убедились, что пользователи есть в каждой группе из 3-х. Есть расхождения в количестве пользователей по группам, так под номером \"248\" больше всего пользователей - 2537, а в \"246\" - 2484, получается между ними расхождение в 53 пользователя или в 2.09%. Таким образом **распределение по экпериментальным группам неравномерное**, расхождение более 1%, что уже является существенным и может повлиять на результаты анализа. Об сбое в распределении системы нужно сообщить разработчикам. В данных нет пользователей участвующих во всех 3 группах сразу или в двух (проверено)."
      ]
    },
    {
      "cell_type": "markdown",
      "metadata": {
        "id": "nz1s-YkI87o6"
      },
      "source": [
        "## Изучим воронку событий"
      ]
    },
    {
      "cell_type": "code",
      "execution_count": null,
      "metadata": {
        "id": "JTte-A4i87o6",
        "outputId": "9c534e6f-2b76-43e9-d183-4676fdbf5c75"
      },
      "outputs": [
        {
          "name": "stdout",
          "output_type": "stream",
          "text": [
            "MainScreenAppear           117328\n",
            "OffersScreenAppear          46333\n",
            "CartScreenAppear            42303\n",
            "PaymentScreenSuccessful     33918\n",
            "Tutorial                     1005\n",
            "Name: event_name, dtype: int64\n"
          ]
        },
        {
          "data": {
            "image/png": "[encoded data removed]",
            "text/plain": [
              "<Figure size 360x360 with 1 Axes>"
            ]
          },
          "metadata": {},
          "output_type": "display_data"
        }
      ],
      "source": [
        "# посмотрим каких событий больше, т.е. распределение данных по событиям\n",
        "print(df_new['event_name'].value_counts())\n",
        "\n",
        "# построим график и визуально оценим долю каждого события\n",
        "fig,(ax1) = plt.subplots(figsize=(5, 5))\n",
        "fig.suptitle('Доля каждого события', fontsize=12)\n",
        "ax1.pie(df_new['event_name'].value_counts(), labels=df_new['event_name'].value_counts().index, autopct='%.0f%%');"
      ]
    },
    {
      "cell_type": "markdown",
      "metadata": {
        "id": "9Y_zH96287o6"
      },
      "source": [
        "Наибольшее число событий под названием \"MainScreenAppear\" - \"Появляется главный экран\", наименьшее у \"Tutorial\" - \"Руководство\". Более менее одинаково и равномерно распределены события \"OffersScreenAppear\" - \"Появление экрана предложений\", \"CartScreenAppear\" - \"Появление экрана корзины\", \"PaymentScreenSuccessful\" -\"Экран оплаты - успешно\". В воронку продаж не входит событие \"Tutorial\" - \"Руководство\", так как эти пользователи в процессе знакомства с приложением настраивали его под себя, либо были технические и другие проблемы, что никак не связано с продажей товара, поэтому мы его уберем из анализа воронки продаж.\n",
        "\n",
        "Далее посмотрим как распределены пользователи по событиям, где их больше и их долю."
      ]
    },
    {
      "cell_type": "code",
      "execution_count": null,
      "metadata": {
        "id": "aJypHQjV87o7",
        "outputId": "4eb875e4-b806-44b4-ed41-e16e5486a3d8"
      },
      "outputs": [
        {
          "data": {
            "text/html": [
              "<div>\n",
              "<style scoped>\n",
              "    .dataframe tbody tr th:only-of-type {\n",
              "        vertical-align: middle;\n",
              "    }\n",
              "\n",
              "    .dataframe tbody tr th {\n",
              "        vertical-align: top;\n",
              "    }\n",
              "\n",
              "    .dataframe thead th {\n",
              "        text-align: right;\n",
              "    }\n",
              "</style>\n",
              "<table border=\"1\" class=\"dataframe\">\n",
              "  <thead>\n",
              "    <tr style=\"text-align: right;\">\n",
              "      <th></th>\n",
              "      <th>user_id</th>\n",
              "      <th>share</th>\n",
              "      <th>conversion</th>\n",
              "    </tr>\n",
              "    <tr>\n",
              "      <th>event_name</th>\n",
              "      <th></th>\n",
              "      <th></th>\n",
              "      <th></th>\n",
              "    </tr>\n",
              "  </thead>\n",
              "  <tbody>\n",
              "    <tr>\n",
              "      <th>MainScreenAppear</th>\n",
              "      <td>7419</td>\n",
              "      <td>98.5</td>\n",
              "      <td>100.0</td>\n",
              "    </tr>\n",
              "    <tr>\n",
              "      <th>OffersScreenAppear</th>\n",
              "      <td>4593</td>\n",
              "      <td>61.0</td>\n",
              "      <td>62.0</td>\n",
              "    </tr>\n",
              "    <tr>\n",
              "      <th>CartScreenAppear</th>\n",
              "      <td>3734</td>\n",
              "      <td>49.6</td>\n",
              "      <td>81.0</td>\n",
              "    </tr>\n",
              "    <tr>\n",
              "      <th>PaymentScreenSuccessful</th>\n",
              "      <td>3539</td>\n",
              "      <td>47.0</td>\n",
              "      <td>95.0</td>\n",
              "    </tr>\n",
              "  </tbody>\n",
              "</table>\n",
              "</div>"
            ],
            "text/plain": [
              "                         user_id  share  conversion\n",
              "event_name                                         \n",
              "MainScreenAppear            7419   98.5       100.0\n",
              "OffersScreenAppear          4593   61.0        62.0\n",
              "CartScreenAppear            3734   49.6        81.0\n",
              "PaymentScreenSuccessful     3539   47.0        95.0"
            ]
          },
          "metadata": {},
          "output_type": "display_data"
        },
        {
          "name": "stdout",
          "output_type": "stream",
          "text": [
            "Доля пользователей, которые проходят полную воронку событий, равна 47 процентов\n"
          ]
        },
        {
          "data": {
            "image/png": "[encoded data removed]",
            "text/plain": [
              "<Figure size 720x360 with 1 Axes>"
            ]
          },
          "metadata": {
            "needs_background": "light"
          },
          "output_type": "display_data"
        }
      ],
      "source": [
        "# распределение пользователей по событиям и их доля в каждом из них\n",
        "event_name_user = df_new.query('event_name != \"Tutorial\"').pivot_table(\n",
        "    index = 'event_name', values = 'user_id', aggfunc='nunique').sort_values(by = 'user_id', ascending = False)\n",
        "event_name_user['share'] = round(100*(event_name_user['user_id']/df_new['user_id'].nunique()), 1)\n",
        "event_name_user['conversion'] = 0\n",
        "for i in range(0, len(event_name_user['user_id'])):\n",
        "    if i == 0:\n",
        "        event_name_user['conversion'].iloc[i] = 100\n",
        "    else:\n",
        "        event_name_user['conversion'].iloc[i] = round((event_name_user['user_id'].iloc[i] / event_name_user['user_id'].iloc[i-1]), 2)*100\n",
        "display(event_name_user)\n",
        "\n",
        "# визуализируем распределение пользователей по событиям\n",
        "event_name_user['user_id'].plot(kind='bar', figsize=(10, 5))\n",
        "plt.suptitle('Распределение пользователей по событиям', fontsize=13, fontweight=\"bold\")\n",
        "plt.xlabel(\"Событие\", fontsize=12)\n",
        "plt.ylabel(\"Количество пользователей\", fontsize=12)\n",
        "plt.xticks(rotation=0);\n",
        "\n",
        "# посмотрим долю пользователей, которые проходят полную воронку событий, от \"главного экрана\" до \"покупки товара\"\n",
        "print('Доля пользователей, которые проходят полную воронку событий, равна', round(100*(3539/df_new['user_id'].nunique())), 'процентов')"
      ]
    },
    {
      "cell_type": "markdown",
      "metadata": {
        "id": "t49vc5k787o7"
      },
      "source": [
        "**Вывод**: воронка продаж в приложении происходит в следующей последовательности:\n",
        "1. \"MainScreenAppear\" - где 98.5% приходят в главный экран, т.е. у 1.5% есть технические либо другие проблемы при входе в приложение на главный экран.\n",
        "2. \"OffersScreenAppear\" - 61% от общего числа (или 62% от первого шага \"MainScreenAppear\") заходят в экран с предложениями, а 38% о предыдущего шага не заинтерисовались товарами.\n",
        "3. \"CartScreenAppear\" - 49.6% кладут товар в корзину от общего числа (или 81% от шага \"OffersScreenAppear\"). 19% пользователей \"отвалились\" от предыдущего шага.\n",
        "4. \"PaymentScreenSuccessful\" - 47% оплачивают его от общего числа (или 95% от предыдущего шага \"CartScreenAppear\"), т.е. 5% пользователей \"отвалились\" от предыдущего шага и передумали покупать товар вложенный в корзину.\n",
        "\n",
        "В воронку продаж не входит событие \"Tutorial\" - \"Руководство\", так как эти пользователи в процессе знакомства с приложением настраивали его под себя, либо были технические и другие проблемы, что никак не связано с продажей товара, поэтому мы его уберем из анализа воронки продаж.\n",
        "\n",
        "Таким образом мы видим **наибольшее число пользователей покидают мобильное приложение на шаге \"MainScreenAppear\", т.е. когда они зашли на главный экран у 38% пользователей не возникло желания пройти и посмотреть предложения с товарами. Выходит не хватает \"цепляющих глаз\" предложений, либо неудобно расположены кнопки и пользователи не хотят разбираться в интерфейсе.**\n",
        "\n",
        "В целом доля пользователей прошедших полную воронку продаж от первого до последнего шага составляет 47%, что достаточно высокий процент и можно считать мобильное приложение успешным. И чтобы этот процент вырос, нужно посмотреть причины отсеивания пользователей на первом этапе и устранения их.\n"
      ]
    },
    {
      "cell_type": "markdown",
      "metadata": {
        "id": "y29rO_dz87o7"
      },
      "source": [
        "## Изучим результаты эксперимента"
      ]
    },
    {
      "cell_type": "code",
      "execution_count": null,
      "metadata": {
        "id": "wKEe0Ojt87o7",
        "outputId": "aad1c2be-c8a3-448e-8ccf-4ac0e0192093"
      },
      "outputs": [
        {
          "data": {
            "text/html": [
              "<div>\n",
              "<style scoped>\n",
              "    .dataframe tbody tr th:only-of-type {\n",
              "        vertical-align: middle;\n",
              "    }\n",
              "\n",
              "    .dataframe tbody tr th {\n",
              "        vertical-align: top;\n",
              "    }\n",
              "\n",
              "    .dataframe thead th {\n",
              "        text-align: right;\n",
              "    }\n",
              "</style>\n",
              "<table border=\"1\" class=\"dataframe\">\n",
              "  <thead>\n",
              "    <tr style=\"text-align: right;\">\n",
              "      <th></th>\n",
              "      <th>user_id</th>\n",
              "    </tr>\n",
              "    <tr>\n",
              "      <th>exp_id</th>\n",
              "      <th></th>\n",
              "    </tr>\n",
              "  </thead>\n",
              "  <tbody>\n",
              "    <tr>\n",
              "      <th>246</th>\n",
              "      <td>2484</td>\n",
              "    </tr>\n",
              "    <tr>\n",
              "      <th>247</th>\n",
              "      <td>2513</td>\n",
              "    </tr>\n",
              "    <tr>\n",
              "      <th>248</th>\n",
              "      <td>2537</td>\n",
              "    </tr>\n",
              "  </tbody>\n",
              "</table>\n",
              "</div>"
            ],
            "text/plain": [
              "        user_id\n",
              "exp_id         \n",
              "246        2484\n",
              "247        2513\n",
              "248        2537"
            ]
          },
          "metadata": {},
          "output_type": "display_data"
        }
      ],
      "source": [
        "# еще раз посмотрим количество пользователей в каждой группе\n",
        "exp_id = df_new.groupby('exp_id')['user_id'].nunique().to_frame()\n",
        "display(exp_id)"
      ]
    },
    {
      "cell_type": "markdown",
      "metadata": {
        "id": "06OnfZA087o7"
      },
      "source": [
        "Группа \"246\" меньше группу \"247\" на 29 пользователей, а между \"246\" и \"248\" уже разница выше в 53 пользователя (2,09%). Расхождения есть и об этом необходимо будет сообщить разработчикам, так как несбалансированно распределены пользователи."
      ]
    },
    {
      "cell_type": "code",
      "execution_count": null,
      "metadata": {
        "id": "cwf_ALiC87o7",
        "outputId": "561de0cc-0a73-4f68-de21-f7297966e65e"
      },
      "outputs": [
        {
          "name": "stdout",
          "output_type": "stream",
          "text": [
            "Процентное отношение числа пользователей группы \"246\" к группе \"247\": 1.15%\n"
          ]
        }
      ],
      "source": [
        "# процентное отношение числа пользователей группы \"246\" к группе \"247\"\n",
        "print(f'Процентное отношение числа пользователей группы \"246\" к группе \"247\": {round(100-(2484*100/2513), 2)}%')\n"
      ]
    },
    {
      "cell_type": "markdown",
      "metadata": {
        "id": "ZM5gIFAo87o7"
      },
      "source": [
        "Получается группа \"247\" больше на 1.15%, чуть выше нормы в 1%. Таким образом разница несущественна и можно говорить о сбалансированном распределение между группами А/А теста."
      ]
    },
    {
      "cell_type": "code",
      "execution_count": null,
      "metadata": {
        "id": "yCGTRRPR87o_",
        "outputId": "ab17794d-a013-47de-d408-f02e56793761"
      },
      "outputs": [
        {
          "data": {
            "text/html": [
              "<div>\n",
              "<style scoped>\n",
              "    .dataframe tbody tr th:only-of-type {\n",
              "        vertical-align: middle;\n",
              "    }\n",
              "\n",
              "    .dataframe tbody tr th {\n",
              "        vertical-align: top;\n",
              "    }\n",
              "\n",
              "    .dataframe thead th {\n",
              "        text-align: right;\n",
              "    }\n",
              "</style>\n",
              "<table border=\"1\" class=\"dataframe\">\n",
              "  <thead>\n",
              "    <tr style=\"text-align: right;\">\n",
              "      <th>event_name</th>\n",
              "      <th>CartScreenAppear</th>\n",
              "      <th>MainScreenAppear</th>\n",
              "      <th>OffersScreenAppear</th>\n",
              "      <th>PaymentScreenSuccessful</th>\n",
              "      <th>Tutorial</th>\n",
              "      <th>total</th>\n",
              "    </tr>\n",
              "    <tr>\n",
              "      <th>exp_id</th>\n",
              "      <th></th>\n",
              "      <th></th>\n",
              "      <th></th>\n",
              "      <th></th>\n",
              "      <th></th>\n",
              "      <th></th>\n",
              "    </tr>\n",
              "  </thead>\n",
              "  <tbody>\n",
              "    <tr>\n",
              "      <th>246</th>\n",
              "      <td>1266</td>\n",
              "      <td>2450</td>\n",
              "      <td>1542</td>\n",
              "      <td>1200</td>\n",
              "      <td>278</td>\n",
              "      <td>2484</td>\n",
              "    </tr>\n",
              "    <tr>\n",
              "      <th>247</th>\n",
              "      <td>1238</td>\n",
              "      <td>2476</td>\n",
              "      <td>1520</td>\n",
              "      <td>1158</td>\n",
              "      <td>283</td>\n",
              "      <td>2513</td>\n",
              "    </tr>\n",
              "    <tr>\n",
              "      <th>248</th>\n",
              "      <td>1230</td>\n",
              "      <td>2493</td>\n",
              "      <td>1531</td>\n",
              "      <td>1181</td>\n",
              "      <td>279</td>\n",
              "      <td>2537</td>\n",
              "    </tr>\n",
              "  </tbody>\n",
              "</table>\n",
              "</div>"
            ],
            "text/plain": [
              "event_name  CartScreenAppear  MainScreenAppear  OffersScreenAppear  \\\n",
              "exp_id                                                               \n",
              "246                     1266              2450                1542   \n",
              "247                     1238              2476                1520   \n",
              "248                     1230              2493                1531   \n",
              "\n",
              "event_name  PaymentScreenSuccessful  Tutorial  total  \n",
              "exp_id                                                \n",
              "246                            1200       278   2484  \n",
              "247                            1158       283   2513  \n",
              "248                            1181       279   2537  "
            ]
          },
          "execution_count": 76,
          "metadata": {},
          "output_type": "execute_result"
        }
      ],
      "source": [
        "# сделаем таблицу, куда внесем разбивку по событиям в каждой группе\n",
        "group_event = df_new.pivot_table(index = 'exp_id', columns = 'event_name', values = 'user_id', aggfunc='nunique')\n",
        "group_event['total'] = [2484, 2513, 2537]\n",
        "group_event"
      ]
    },
    {
      "cell_type": "markdown",
      "metadata": {
        "id": "mpJICJ4I87o_"
      },
      "source": [
        "Из таблицы видим, что популярное событие во всех групппах это \"MainScreenAppear\".\n",
        "\n",
        "### Проверим равенство доли событий для групп \"246\" и \"247\".\n",
        "\n",
        "Проведем **тест при помощи Z-критерия.**\n",
        "\n",
        "**Нулевая гипотеза:** между долями нет значимой разницы.(равны доли)\n",
        "\n",
        "**Альтернативная:** между долями есть значимая разница.(неравны доли)\n",
        "\n",
        "alpha = 0.01"
      ]
    },
    {
      "cell_type": "code",
      "execution_count": null,
      "metadata": {
        "id": "yE-muDvw87o_",
        "outputId": "4402e8d9-1111-46e0-b21d-10bc00f21d48"
      },
      "outputs": [
        {
          "name": "stdout",
          "output_type": "stream",
          "text": [
            "p-значение:  0.7570597232046099\n",
            "Не получилось отвергнуть нулевую гипотезу, нет оснований считать доли разными (т.е. они равны).\n"
          ]
        }
      ],
      "source": [
        "# проведем тест для события MainScreenAppear в группах \"246\" и \"247\"\n",
        "alpha = 0.01\n",
        "event = np.array([2450, 2476])\n",
        "total = np.array([2484, 2513])\n",
        "\n",
        "p1 = event[0]/total[0]\n",
        "p2 = event[1]/total[1]\n",
        "p_combined = (event[0] + event[1]) / (total[0] + total[1])\n",
        "difference = p1 - p2\n",
        "z_value = difference / mth.sqrt(p_combined * (1 - p_combined) * (1/total[0] + 1/total[1])) # ваш код\n",
        "\n",
        "distr = st.norm(0, 1)\n",
        "\n",
        "p_value = (1 - distr.cdf(abs(z_value))) * 2\n",
        "\n",
        "print('p-значение: ', p_value)\n",
        "\n",
        "if p_value < alpha:\n",
        "    print('Отвергаем нулевую гипотезу, т.е. между долями есть значимая разница')\n",
        "else:\n",
        "    print('Не получилось отвергнуть нулевую гипотезу, нет оснований считать доли разными (т.е. они равны).')"
      ]
    },
    {
      "cell_type": "code",
      "execution_count": null,
      "metadata": {
        "id": "l7_Eg6Gb87pA",
        "outputId": "fd3ada41-0430-4fb6-d6b2-dfccf0cdb6a2"
      },
      "outputs": [
        {
          "name": "stdout",
          "output_type": "stream",
          "text": [
            "В 246-ой контрольной группе 98.63 % пользователей переходят на главный экран\n",
            "В 247-ой контрольной группе 98.53 % пользователей переходят на главный экран\n"
          ]
        }
      ],
      "source": [
        "print('В 246-ой контрольной группе', round(group_event['MainScreenAppear'].iloc[0]/\n",
        "                                           group_event['total'].iloc[0]*100, 2), '% пользователей переходят на главный экран')\n",
        "print('В 247-ой контрольной группе', round(group_event['MainScreenAppear'].iloc[1]/\n",
        "                                           group_event['total'].iloc[1]*100, 2), '% пользователей переходят на главный экран')"
      ]
    },
    {
      "cell_type": "markdown",
      "metadata": {
        "id": "XEa8cON987pA"
      },
      "source": [
        "Таким образом разница событий в долях группы \"246\" и \"247\" не является статистически значимой.\n",
        "\n",
        "Далее обернем наш тест в функцию и проделаем его с остальными событиями между группой \"246\" и \"247\""
      ]
    },
    {
      "cell_type": "code",
      "execution_count": null,
      "metadata": {
        "id": "MHGdNtY987pA"
      },
      "outputs": [],
      "source": [
        "# функция для проведения Z-теста\n",
        "def test_z (event, event1, total, total1):\n",
        "    alpha = 0.01\n",
        "    p1 = event/total\n",
        "    p2 = event1/total1\n",
        "    p_combined = (event + event1) / (total + total1)\n",
        "    difference = p1 - p2\n",
        "    z_value = difference / mth.sqrt(p_combined * (1 - p_combined) * (1/total + 1/total1)) # ваш код\n",
        "\n",
        "    distr = st.norm(0, 1)\n",
        "\n",
        "    p_value = (1 - distr.cdf(abs(z_value))) * 2\n",
        "\n",
        "    print('p-значение: ', p_value)\n",
        "\n",
        "    if p_value < alpha:\n",
        "        print('Отвергаем нулевую гипотезу: между долями есть значимая разница')\n",
        "    else:\n",
        "        print('Не получилось отвергнуть нулевую гипотезу, нет оснований считать доли разными (т.е. они равны).')"
      ]
    },
    {
      "cell_type": "code",
      "execution_count": null,
      "metadata": {
        "id": "lYJwh98B87pA",
        "outputId": "cdc159a9-59de-4d3b-fbb3-d1981dcabd21"
      },
      "outputs": [
        {
          "name": "stdout",
          "output_type": "stream",
          "text": [
            "p-значение:  0.22883372237997213\n",
            "Не получилось отвергнуть нулевую гипотезу, нет оснований считать доли разными (т.е. они равны).\n"
          ]
        }
      ],
      "source": [
        "# проведем тест для события CartScreenAppear в группах \"246\" и \"247\"\n",
        "test_z(1266, 1238, 2484, 2513)"
      ]
    },
    {
      "cell_type": "code",
      "execution_count": null,
      "metadata": {
        "id": "WzEl1wrO87pA",
        "outputId": "81dbc82e-6e35-453b-f30b-6ca8a54399aa"
      },
      "outputs": [
        {
          "name": "stdout",
          "output_type": "stream",
          "text": [
            "p-значение:  0.2480954578522181\n",
            "Не получилось отвергнуть нулевую гипотезу, нет оснований считать доли разными (т.е. они равны).\n"
          ]
        }
      ],
      "source": [
        "# проведем тест для события OffersScreenAppear в группах \"246\" и \"247\"\n",
        "test_z(1542, 1520, 2484, 2513)"
      ]
    },
    {
      "cell_type": "code",
      "execution_count": null,
      "metadata": {
        "id": "_HnkTatP87pA",
        "outputId": "9f7b697a-4d7a-4894-8537-6a3ff968c1fa"
      },
      "outputs": [
        {
          "name": "stdout",
          "output_type": "stream",
          "text": [
            "p-значение:  0.11456679313141849\n",
            "Не получилось отвергнуть нулевую гипотезу, нет оснований считать доли разными (т.е. они равны).\n"
          ]
        }
      ],
      "source": [
        "# проведем тест для события PaymentScreenSuccessful в группах \"246\" и \"247\"\n",
        "test_z(1200, 1158, 2484, 2513)"
      ]
    },
    {
      "cell_type": "code",
      "execution_count": null,
      "metadata": {
        "id": "Hn0bYnb787pA",
        "outputId": "556bbcc5-841e-4758-f4c4-732e9e66149b"
      },
      "outputs": [
        {
          "name": "stdout",
          "output_type": "stream",
          "text": [
            "В 246-ой контрольной группе 48.31 % пользователей совершают покупку\n",
            "В 247-ой контрольной группе 46.08 % пользователей совершают покупку\n"
          ]
        }
      ],
      "source": [
        "print('В 246-ой контрольной группе', round(group_event['PaymentScreenSuccessful'].iloc[0]/group_event['total'].iloc[0]*100, 2), '% пользователей совершают покупку')\n",
        "print('В 247-ой контрольной группе', round(group_event['PaymentScreenSuccessful'].iloc[1]/group_event['total'].iloc[1]*100, 2), '% пользователей совершают покупку')"
      ]
    },
    {
      "cell_type": "markdown",
      "metadata": {
        "id": "vbTJUeeG87pB"
      },
      "source": [
        "**Итог:** Отвергнуть нулевую гипотезу не получилось, т.е. доли в воронке продаж между группами \"246\" и \"247\" равны. Проведение А/А теста между граппами \"246\" и \"247\" можно считать успешным и правильным. Но, что касается конверсии, то доля пользователей совершивших покупку в \"246\" группе выше, чем \"247\"."
      ]
    },
    {
      "cell_type": "markdown",
      "metadata": {
        "id": "tlUVVGXb87pB"
      },
      "source": [
        "### Проверим равенство доли событий для групп \"246\" и \"248\"."
      ]
    },
    {
      "cell_type": "code",
      "execution_count": null,
      "metadata": {
        "id": "AHzML6pR87pB",
        "outputId": "6fa339a5-e0a9-4216-d0fb-2cfd88e60b1a"
      },
      "outputs": [
        {
          "name": "stdout",
          "output_type": "stream",
          "text": [
            "p-значение:  0.2949721933554552\n",
            "Не получилось отвергнуть нулевую гипотезу, нет оснований считать доли разными (т.е. они равны).\n"
          ]
        }
      ],
      "source": [
        "# проведем тест для события MainScreenAppear в группах \"246\" и \"248\"\n",
        "test_z(2450, 2493, 2484, 2537)"
      ]
    },
    {
      "cell_type": "code",
      "execution_count": null,
      "metadata": {
        "id": "hBD148QS87pB",
        "outputId": "26e58070-cb1c-40fe-f511-b074422d0a56"
      },
      "outputs": [
        {
          "name": "stdout",
          "output_type": "stream",
          "text": [
            "В 246-ой контрольной группе 98.63 % пользователей переходят на главный экран\n",
            "В 248-ой группе, с измененным шрифтом 98.27 % пользователей переходят на главный экран\n"
          ]
        }
      ],
      "source": [
        "print('В 246-ой контрольной группе', round(group_event['MainScreenAppear'].iloc[0]/\n",
        "                                           group_event['total'].iloc[0]*100, 2), '% пользователей переходят на главный экран')\n",
        "print('В 248-ой группе, с измененным шрифтом', round(group_event['MainScreenAppear'].iloc[2]/\n",
        "                                           group_event['total'].iloc[2]*100, 2), '% пользователей переходят на главный экран')"
      ]
    },
    {
      "cell_type": "code",
      "execution_count": null,
      "metadata": {
        "id": "ZR7AFv9P87pB",
        "outputId": "0593c316-b275-46ee-fcf0-1bb0bc4adce7"
      },
      "outputs": [
        {
          "name": "stdout",
          "output_type": "stream",
          "text": [
            "p-значение:  0.07842923237520116\n",
            "Не получилось отвергнуть нулевую гипотезу, нет оснований считать доли разными (т.е. они равны).\n"
          ]
        }
      ],
      "source": [
        "# проведем тест для события CartScreenAppear в группах \"246\" и \"248\"\n",
        "test_z(1266, 1230, 2484, 2537)"
      ]
    },
    {
      "cell_type": "code",
      "execution_count": null,
      "metadata": {
        "id": "CtS5crpt87pB",
        "outputId": "0d98053e-7646-42bd-f69e-e5aa29d54915"
      },
      "outputs": [
        {
          "name": "stdout",
          "output_type": "stream",
          "text": [
            "p-значение:  0.20836205402738917\n",
            "Не получилось отвергнуть нулевую гипотезу, нет оснований считать доли разными (т.е. они равны).\n"
          ]
        }
      ],
      "source": [
        "# проведем тест для события OffersScreenAppear в группах \"246\" и \"248\"\n",
        "test_z(1542, 1531, 2484, 2537)"
      ]
    },
    {
      "cell_type": "code",
      "execution_count": null,
      "metadata": {
        "id": "b7axKF8V87pC",
        "outputId": "0fcfbb2e-f03c-4ef6-d13e-9aad6d01fdd4"
      },
      "outputs": [
        {
          "name": "stdout",
          "output_type": "stream",
          "text": [
            "p-значение:  0.2122553275697796\n",
            "Не получилось отвергнуть нулевую гипотезу, нет оснований считать доли разными (т.е. они равны).\n"
          ]
        }
      ],
      "source": [
        "# проведем тест для события PaymentScreenSuccessful в группах \"246\" и \"248\"\n",
        "test_z(1200, 1181, 2484, 2537)"
      ]
    },
    {
      "cell_type": "code",
      "execution_count": null,
      "metadata": {
        "id": "QZOrfwCs87pC",
        "outputId": "86b7f3ba-b8cf-4e20-c14c-bbd6fb8832bb"
      },
      "outputs": [
        {
          "name": "stdout",
          "output_type": "stream",
          "text": [
            "В 246-ой контрольной группе 48.31 % пользователей совершают покупку\n",
            "В 248-ой группе, с измененным шрифтом 46.55 % пользователей совершают покупку\n"
          ]
        }
      ],
      "source": [
        "print('В 246-ой контрольной группе', round(group_event['PaymentScreenSuccessful'].iloc[0]/\n",
        "                                           group_event['total'].iloc[0]*100, 2), '% пользователей совершают покупку')\n",
        "print('В 248-ой группе, с измененным шрифтом', round(group_event['PaymentScreenSuccessful'].iloc[2]/\n",
        "                                           group_event['total'].iloc[2]*100, 2), '% пользователей совершают покупку')"
      ]
    },
    {
      "cell_type": "markdown",
      "metadata": {
        "id": "1Ma7_beG87pC"
      },
      "source": [
        "**Итог:** Отвергнуть нулевую гипотезу не получилось, т.е. доли в воронке продаж между группами \"246\" и \"248\" равны. Но, что касается конверсии, то доля пользователей совершивших покупку в \"246\" группе выше, чем \"248\" на 2%. Проведенный А/В тест между граппами \"246\" и \"248\" говорит о нецелесообразности изменения шрифта во всем приложении - он не дает нужных результатов."
      ]
    },
    {
      "cell_type": "markdown",
      "metadata": {
        "id": "5zRIIQyz87pC"
      },
      "source": [
        "### Проверим равенство доли событий для групп \"247\" и \"248\"."
      ]
    },
    {
      "cell_type": "code",
      "execution_count": null,
      "metadata": {
        "id": "2_pbZ5-j87pC",
        "outputId": "7c4e19b5-f4d2-46fa-b576-d28666053372"
      },
      "outputs": [
        {
          "name": "stdout",
          "output_type": "stream",
          "text": [
            "p-значение:  0.4587053616621515\n",
            "Не получилось отвергнуть нулевую гипотезу, нет оснований считать доли разными (т.е. они равны).\n"
          ]
        }
      ],
      "source": [
        "# проведем тест для события MainScreenAppear в группах \"247\" и \"248\"\n",
        "test_z(2476, 2493, 2513, 2537)"
      ]
    },
    {
      "cell_type": "code",
      "execution_count": null,
      "metadata": {
        "id": "VnVQkeJp87pC",
        "outputId": "bd9f0409-e5cb-4b0d-9ffb-a6fbcacf0adf"
      },
      "outputs": [
        {
          "name": "stdout",
          "output_type": "stream",
          "text": [
            "В 247-ой контрольной группе 98.53 % пользователей переходят на главный экран\n",
            "В 248-ой группе, с измененным шрифтом 98.27 % пользователей переходят на главный экран\n"
          ]
        }
      ],
      "source": [
        "print('В 247-ой контрольной группе', round(group_event['MainScreenAppear'].iloc[1]/\n",
        "                                           group_event['total'].iloc[1]*100, 2), '% пользователей переходят на главный экран')\n",
        "print('В 248-ой группе, с измененным шрифтом', round(group_event['MainScreenAppear'].iloc[2]/\n",
        "                                           group_event['total'].iloc[2]*100, 2), '% пользователей переходят на главный экран')"
      ]
    },
    {
      "cell_type": "code",
      "execution_count": null,
      "metadata": {
        "id": "AX1O0kfU87pC",
        "outputId": "523def1f-0b8a-4d6c-d19b-a9edd4559f62"
      },
      "outputs": [
        {
          "name": "stdout",
          "output_type": "stream",
          "text": [
            "p-значение:  0.5786197879539783\n",
            "Не получилось отвергнуть нулевую гипотезу, нет оснований считать доли разными (т.е. они равны).\n"
          ]
        }
      ],
      "source": [
        "# проведем тест для события CartScreenAppear в группах \"247\" и \"248\"\n",
        "test_z(1238, 1230, 2513, 2537)"
      ]
    },
    {
      "cell_type": "code",
      "execution_count": null,
      "metadata": {
        "id": "nPcdArUA87pC",
        "outputId": "f3aada46-c29f-4fb2-d63b-d5232a02d659"
      },
      "outputs": [
        {
          "name": "stdout",
          "output_type": "stream",
          "text": [
            "p-значение:  0.9197817830592261\n",
            "Не получилось отвергнуть нулевую гипотезу, нет оснований считать доли разными (т.е. они равны).\n"
          ]
        }
      ],
      "source": [
        "# проведем тест для события OffersScreenAppear в группах \"247\" и \"248\"\n",
        "test_z(1520, 1531, 2513, 2537)"
      ]
    },
    {
      "cell_type": "code",
      "execution_count": null,
      "metadata": {
        "id": "JL5YgKjo87pD",
        "outputId": "8086d2da-0c2c-4cbd-98e5-0b97314cb800"
      },
      "outputs": [
        {
          "name": "stdout",
          "output_type": "stream",
          "text": [
            "p-значение:  0.7373415053803964\n",
            "Не получилось отвергнуть нулевую гипотезу, нет оснований считать доли разными (т.е. они равны).\n"
          ]
        }
      ],
      "source": [
        "# проведем тест для события PaymentScreenSuccessful в группах \"247\" и \"248\"\n",
        "test_z(1158, 1181, 2513, 2537)"
      ]
    },
    {
      "cell_type": "code",
      "execution_count": null,
      "metadata": {
        "id": "eUC99cYK87pD",
        "outputId": "5bc41512-63a9-4016-be50-33fca346641f"
      },
      "outputs": [
        {
          "name": "stdout",
          "output_type": "stream",
          "text": [
            "В 247-ой контрольной группе 46.08 % пользователей совершают покупку\n",
            "В 248-ой группе, с измененным шрифтом 46.55 % пользователей совершают покупку\n"
          ]
        }
      ],
      "source": [
        "print('В 247-ой контрольной группе', round(group_event['PaymentScreenSuccessful'].iloc[1]/\n",
        "                                           group_event['total'].iloc[1]*100, 2), '% пользователей совершают покупку')\n",
        "print('В 248-ой группе, с измененным шрифтом', round(group_event['PaymentScreenSuccessful'].iloc[2]/\n",
        "                                           group_event['total'].iloc[2]*100, 2), '% пользователей совершают покупку')"
      ]
    },
    {
      "cell_type": "markdown",
      "metadata": {
        "id": "NMQTzcEt87pD"
      },
      "source": [
        "**Итог:** Отвергнуть нулевую гипотезу не получилось, т.е. доли в воронке продаж между группами \"247\" и \"248\" равны. Но, что касается конверсии, то доля пользователей совершивших покупку в \"247\" и \"248\" группах примерно равны. Проведенный А/В тест между граппами \"247\" и \"248\" говорит о нецелесообразности изменения шрифта во всем приложении - он не дает нужных результатов."
      ]
    },
    {
      "cell_type": "markdown",
      "metadata": {
        "id": "x3wNhxnK87pD"
      },
      "source": [
        "### Проверим равенство доли событий для групп \"248\" и \"249\"."
      ]
    },
    {
      "cell_type": "markdown",
      "metadata": {
        "id": "RHqKhZJ787pD"
      },
      "source": [
        "Добавим в таблицу новую группу \"249\", куда войдут данные первых групп А/А теста. Обьеденив их посмотрим изменится ли результат теста."
      ]
    },
    {
      "cell_type": "code",
      "execution_count": null,
      "metadata": {
        "id": "5Knf3-Cn87pD",
        "outputId": "2822cbf9-5aeb-4dc2-89ef-9ca12ccb9af1"
      },
      "outputs": [
        {
          "data": {
            "text/html": [
              "<div>\n",
              "<style scoped>\n",
              "    .dataframe tbody tr th:only-of-type {\n",
              "        vertical-align: middle;\n",
              "    }\n",
              "\n",
              "    .dataframe tbody tr th {\n",
              "        vertical-align: top;\n",
              "    }\n",
              "\n",
              "    .dataframe thead th {\n",
              "        text-align: right;\n",
              "    }\n",
              "</style>\n",
              "<table border=\"1\" class=\"dataframe\">\n",
              "  <thead>\n",
              "    <tr style=\"text-align: right;\">\n",
              "      <th>event_name</th>\n",
              "      <th>CartScreenAppear</th>\n",
              "      <th>MainScreenAppear</th>\n",
              "      <th>OffersScreenAppear</th>\n",
              "      <th>PaymentScreenSuccessful</th>\n",
              "      <th>Tutorial</th>\n",
              "      <th>total</th>\n",
              "    </tr>\n",
              "  </thead>\n",
              "  <tbody>\n",
              "    <tr>\n",
              "      <th>246</th>\n",
              "      <td>1266</td>\n",
              "      <td>2450</td>\n",
              "      <td>1542</td>\n",
              "      <td>1200</td>\n",
              "      <td>278</td>\n",
              "      <td>2484</td>\n",
              "    </tr>\n",
              "    <tr>\n",
              "      <th>247</th>\n",
              "      <td>1238</td>\n",
              "      <td>2476</td>\n",
              "      <td>1520</td>\n",
              "      <td>1158</td>\n",
              "      <td>283</td>\n",
              "      <td>2513</td>\n",
              "    </tr>\n",
              "    <tr>\n",
              "      <th>248</th>\n",
              "      <td>1230</td>\n",
              "      <td>2493</td>\n",
              "      <td>1531</td>\n",
              "      <td>1181</td>\n",
              "      <td>279</td>\n",
              "      <td>2537</td>\n",
              "    </tr>\n",
              "    <tr>\n",
              "      <th>249</th>\n",
              "      <td>2504</td>\n",
              "      <td>4926</td>\n",
              "      <td>3062</td>\n",
              "      <td>2358</td>\n",
              "      <td>561</td>\n",
              "      <td>4997</td>\n",
              "    </tr>\n",
              "  </tbody>\n",
              "</table>\n",
              "</div>"
            ],
            "text/plain": [
              "event_name  CartScreenAppear  MainScreenAppear  OffersScreenAppear  \\\n",
              "246                     1266              2450                1542   \n",
              "247                     1238              2476                1520   \n",
              "248                     1230              2493                1531   \n",
              "249                     2504              4926                3062   \n",
              "\n",
              "event_name  PaymentScreenSuccessful  Tutorial  total  \n",
              "246                            1200       278   2484  \n",
              "247                            1158       283   2513  \n",
              "248                            1181       279   2537  \n",
              "249                            2358       561   4997  "
            ]
          },
          "execution_count": 96,
          "metadata": {},
          "output_type": "execute_result"
        }
      ],
      "source": [
        "row = group_event.loc[246] + group_event.loc[247]\n",
        "row.name = '249'\n",
        "group_event = group_event.append([row])\n",
        "group_event = group_event[['CartScreenAppear', 'MainScreenAppear', 'OffersScreenAppear', 'PaymentScreenSuccessful', 'Tutorial', 'total']]\n",
        "group_event"
      ]
    },
    {
      "cell_type": "code",
      "execution_count": null,
      "metadata": {
        "id": "paQhByTw87pD",
        "outputId": "6a48ed95-1165-47ab-8caa-d0fc0add0184"
      },
      "outputs": [
        {
          "name": "stdout",
          "output_type": "stream",
          "text": [
            "p-значение:  0.29424526837179577\n",
            "Не получилось отвергнуть нулевую гипотезу, нет оснований считать доли разными (т.е. они равны).\n"
          ]
        }
      ],
      "source": [
        "# проведем тест для события MainScreenAppear в группах \"248\" и \"249\"\n",
        "test_z(2493, 4926, 2537, 4997)"
      ]
    },
    {
      "cell_type": "code",
      "execution_count": null,
      "metadata": {
        "id": "srqwJUZx87pG",
        "outputId": "431a83cd-77bd-4676-ab42-fbda0c50b5cb"
      },
      "outputs": [
        {
          "name": "stdout",
          "output_type": "stream",
          "text": [
            "В 248-ой группе, с измененным шрифтом 98.27 % пользователей переходят на главный экран\n",
            "В 249-ой обьединенной группе 98.58 % пользователей переходят на главный экран\n"
          ]
        }
      ],
      "source": [
        "print('В 248-ой группе, с измененным шрифтом', round(group_event['MainScreenAppear'].iloc[2]/\n",
        "                                           group_event['total'].iloc[2]*100, 2), '% пользователей переходят на главный экран')\n",
        "print('В 249-ой обьединенной группе', round(group_event['MainScreenAppear'].iloc[3]/\n",
        "                                           group_event['total'].iloc[3]*100, 2), '% пользователей переходят на главный экран')"
      ]
    },
    {
      "cell_type": "code",
      "execution_count": null,
      "metadata": {
        "id": "CBOUD9nZ87pG",
        "outputId": "b825bda8-6dac-456f-eb05-652d506e95c4"
      },
      "outputs": [
        {
          "name": "stdout",
          "output_type": "stream",
          "text": [
            "p-значение:  0.18175875284404386\n",
            "Не получилось отвергнуть нулевую гипотезу, нет оснований считать доли разными (т.е. они равны).\n"
          ]
        }
      ],
      "source": [
        "# проведем тест для события CartScreenAppear в группах \"248\" и \"249\"\n",
        "test_z(1230, 2504, 2537, 4997)"
      ]
    },
    {
      "cell_type": "code",
      "execution_count": null,
      "metadata": {
        "id": "nhhdUMUO87pG",
        "outputId": "25d81aba-b72e-4beb-8a82-c5cf94c6f926"
      },
      "outputs": [
        {
          "name": "stdout",
          "output_type": "stream",
          "text": [
            "p-значение:  0.43425549655188256\n",
            "Не получилось отвергнуть нулевую гипотезу, нет оснований считать доли разными (т.е. они равны).\n"
          ]
        }
      ],
      "source": [
        "# проведем тест для события OffersScreenAppear в группах \"248\" и \"249\"\n",
        "test_z(1531, 3062, 2537, 4997)"
      ]
    },
    {
      "cell_type": "code",
      "execution_count": null,
      "metadata": {
        "id": "cr9zM7nL87pG",
        "outputId": "30a2fac5-6b7c-4f3a-af43-07b0f13c3e3c"
      },
      "outputs": [
        {
          "name": "stdout",
          "output_type": "stream",
          "text": [
            "p-значение:  0.6004294282308704\n",
            "Не получилось отвергнуть нулевую гипотезу, нет оснований считать доли разными (т.е. они равны).\n"
          ]
        }
      ],
      "source": [
        "# проведем тест для события PaymentScreenSuccessful в группах \"248\" и \"249\"\n",
        "test_z(1181, 2358, 2537, 4997)"
      ]
    },
    {
      "cell_type": "code",
      "execution_count": null,
      "metadata": {
        "id": "rfZRYQB187pH",
        "outputId": "b6cb51d3-4244-4953-eee3-f3a5d45e7bbd"
      },
      "outputs": [
        {
          "name": "stdout",
          "output_type": "stream",
          "text": [
            "В 248-ой группе, с измененным шрифтом 46.55 % пользователей совершают покупку\n",
            "В 249-ой обьединенной группе 47.19 % пользователей совершают покупку\n"
          ]
        }
      ],
      "source": [
        "print('В 248-ой группе, с измененным шрифтом', round(group_event['PaymentScreenSuccessful'].iloc[2]/\n",
        "                                           group_event['total'].iloc[2]*100, 2), '% пользователей совершают покупку')\n",
        "print('В 249-ой обьединенной группе', round(group_event['PaymentScreenSuccessful'].iloc[3]/\n",
        "                                           group_event['total'].iloc[3]*100, 2), '% пользователей совершают покупку')"
      ]
    },
    {
      "cell_type": "markdown",
      "metadata": {
        "id": "dchHTxKz87pH"
      },
      "source": [
        "**Итог:** Отвергнуть нулевую гипотезу не получилось, т.е. доли в воронке продаж между группами \"248\" и \"249\" равны. Но, что касается конверсии, то доля пользователей совершивших покупку в \"249\" выше на 0,64%, чем в \"248\". Проведенный А/В тест между граппами \"248\" и \"249\" говорит о нецелесообразности изменения шрифта во всем приложении - он не дает нужных результатов."
      ]
    },
    {
      "cell_type": "markdown",
      "metadata": {
        "id": "B9_VuCUB87pH"
      },
      "source": [
        "## Выводы\n",
        "\n",
        "В датасете имеются столбцы с названием события, ID пользователя, временем события и номером экспериментальной группы. Дата записана в неправильном формате. Видны такие события: 'Появление главного экрана', 'Появление экрана оплаты' и т д. События являются частью воронки продаж на сайте. В таблице были удалены дубликаты, откорректированы типы данных, добавлен столбец с данной. Пропуски в таблице отсутствуют\n",
        "В логе есть 5 событий, по убыванию их популярности: показ пользователю главного экрана, показ экрана с предложением, показ экрана корзины, показ экрана с подтверждением оплаты, показ обучения. В логе всего 7551 пользователь. В среднем на пользователя приходится 32 события, однако это число завышено из за больших выбросов. Чаще всего на пользователей приходится 0-30 событий.\n",
        "До 01.08.201 совершается очень мало событий. Скорее всего как раз с этой даты все данные доехали, и можно оценивать результаты экспериментов. После удаления ранних данных были потеряно 2826 событий, что составляет около 1% от общего числа, 5 пользователей.\n",
        "По 7.7-8к событий приходится на каждую эксперименальную группу.\n",
        "Cобытия складываются в воронку продаж. Самое популярное событие - показ главного экрана, а самое непопулярное, которое входит в воронку продаж, - показ экрана оплаты. Предположительно, воронка продаж следующая:\n",
        "пользователь видит главныф экран сайта\n",
        "пользователь переходит на понравившийся ему товар\n",
        "пользоватеь добавляет товар в корзину и переходит в нее\n",
        "пользователь оплачивает заказ\n",
        "Дополнительно имеется событие - обучение. Возможно, пользователя учат работать с сайтом. Но, судя по доле этого события, оно нре является обязательным на сайте. И только 4% пользователей переходят на эту страницу, поэтому она не входит в воронку продаж.\n",
        "Было подсчитано, какой процент пользователей проходит на каждый из этапов воронки, от предыдущего шага. На экран с предложением проходит 62% пользователей, посмотревших главный экран. На экран с корзиной переходит 81% пользователей. На экран с успешной оплатой переходит 95% пользователей. К оплате переходит 95% пользователей от предыдущего шага, а вот к экрану с предложением проходит только 62% пользователей. От показа главного экрана до тоговой оплаты доходит 48 % пользователей.\n",
        "В 246 группе 2484 пользователя, в 247 группе 2513 пользователей, в группе 248, с увеличенными шрифтами, 2537 пользователей. Как видно из проверги гипотез о равенстве долей, нет оснований считать контрольные выборки групп 246 и 247 разными.Самым популярным событием, как и ожидалось, становится показ главного экрана сайта. С этого и начинается воронка продаж.\n",
        "При уровне статистической значимости 0.1, между второй контрольной группой (247) и группой с измененными шрифтами (248) значимых различий нет, так и нет разницы между тестовой группой и объеиненной контрольной. А вот между группами 246 и 248 есть значимая разница в доле пользоватей, перешедших к корзине. У группы с измененными шрифтами процент перешедших к оплате 48% < 50% перешедших к оплате в первой контролной группе.\n",
        "При измепнении уровня значимости на 0.05, значимой разницы между тестовой группой и всеми контрольными группами при всех событиях нет.\n",
        "Для определения уровня значисти лучше проводить компьютерный анализ. Для альфа 0.1 контрольная группа показала себя лучше тестовой для события перехода на страницу корзины. В остальных событиях значимой разницы между группами нет. При уменьшении альфа значительной разницы между группами нет ни для каких событий. Можно сделать вывод, что текст на сайте менять не нужно. В лучшем случае конверсия не изменится. А доля перешедших к корзине пользователей может упасть."
      ]
    },
    {
      "cell_type": "code",
      "execution_count": null,
      "metadata": {
        "id": "5FoKJ7Er87pH"
      },
      "outputs": [],
      "source": []
    }
  ],
  "metadata": {
    "ExecuteTimeLog": [
      {
        "duration": 1289,
        "start_time": "2023-05-22T13:15:44.246Z"
      },
      {
        "duration": 957,
        "start_time": "2023-05-22T13:15:45.678Z"
      },
      {
        "duration": 94,
        "start_time": "2023-05-22T13:16:24.333Z"
      },
      {
        "duration": 6,
        "start_time": "2023-05-22T13:16:46.605Z"
      },
      {
        "duration": 3193,
        "start_time": "2023-05-22T16:38:52.073Z"
      },
      {
        "duration": 923,
        "start_time": "2023-05-22T16:38:55.269Z"
      },
      {
        "duration": 11,
        "start_time": "2023-05-22T16:38:56.193Z"
      },
      {
        "duration": 85,
        "start_time": "2023-05-22T16:40:02.273Z"
      },
      {
        "duration": 12,
        "start_time": "2023-05-22T16:40:02.999Z"
      },
      {
        "duration": 167,
        "start_time": "2023-05-22T16:40:18.742Z"
      },
      {
        "duration": 8,
        "start_time": "2023-05-22T16:40:19.315Z"
      },
      {
        "duration": 77,
        "start_time": "2023-05-22T16:40:47.984Z"
      },
      {
        "duration": 83,
        "start_time": "2023-05-22T16:41:57.610Z"
      },
      {
        "duration": 289,
        "start_time": "2023-05-22T16:42:33.971Z"
      },
      {
        "duration": 15,
        "start_time": "2023-05-22T16:42:35.106Z"
      },
      {
        "duration": 11,
        "start_time": "2023-05-22T16:43:11.040Z"
      },
      {
        "duration": 8,
        "start_time": "2023-05-22T16:51:26.255Z"
      },
      {
        "duration": 78,
        "start_time": "2023-05-22T16:54:07.041Z"
      },
      {
        "duration": 26,
        "start_time": "2023-05-22T16:58:16.055Z"
      },
      {
        "duration": 3,
        "start_time": "2023-05-22T17:06:09.000Z"
      },
      {
        "duration": 336,
        "start_time": "2023-05-22T17:06:09.005Z"
      },
      {
        "duration": 10,
        "start_time": "2023-05-22T17:06:09.342Z"
      },
      {
        "duration": 19,
        "start_time": "2023-05-22T17:06:09.353Z"
      },
      {
        "duration": 64,
        "start_time": "2023-05-22T17:06:09.374Z"
      },
      {
        "duration": 5,
        "start_time": "2023-05-22T17:06:09.440Z"
      },
      {
        "duration": 713,
        "start_time": "2023-05-22T17:17:38.606Z"
      },
      {
        "duration": 4,
        "start_time": "2023-05-22T17:17:45.085Z"
      },
      {
        "duration": 3,
        "start_time": "2023-05-22T17:17:59.822Z"
      },
      {
        "duration": 194,
        "start_time": "2023-05-22T17:17:59.827Z"
      },
      {
        "duration": 10,
        "start_time": "2023-05-22T17:18:00.023Z"
      },
      {
        "duration": 43,
        "start_time": "2023-05-22T17:18:00.034Z"
      },
      {
        "duration": 81,
        "start_time": "2023-05-22T17:18:00.079Z"
      },
      {
        "duration": 9,
        "start_time": "2023-05-22T17:18:00.161Z"
      },
      {
        "duration": 33,
        "start_time": "2023-05-22T17:18:00.171Z"
      },
      {
        "duration": 25,
        "start_time": "2023-05-22T17:18:11.926Z"
      },
      {
        "duration": 19,
        "start_time": "2023-05-22T17:18:29.949Z"
      },
      {
        "duration": 3,
        "start_time": "2023-05-22T17:18:35.024Z"
      },
      {
        "duration": 181,
        "start_time": "2023-05-22T17:18:35.029Z"
      },
      {
        "duration": 10,
        "start_time": "2023-05-22T17:18:35.212Z"
      },
      {
        "duration": 23,
        "start_time": "2023-05-22T17:18:35.224Z"
      },
      {
        "duration": 79,
        "start_time": "2023-05-22T17:18:35.249Z"
      },
      {
        "duration": 6,
        "start_time": "2023-05-22T17:18:35.330Z"
      },
      {
        "duration": 55,
        "start_time": "2023-05-22T17:18:35.338Z"
      },
      {
        "duration": 26,
        "start_time": "2023-05-22T17:18:57.346Z"
      },
      {
        "duration": 3,
        "start_time": "2023-05-22T17:19:00.944Z"
      },
      {
        "duration": 227,
        "start_time": "2023-05-22T17:19:00.949Z"
      },
      {
        "duration": 9,
        "start_time": "2023-05-22T17:19:01.178Z"
      },
      {
        "duration": 36,
        "start_time": "2023-05-22T17:19:01.188Z"
      },
      {
        "duration": 83,
        "start_time": "2023-05-22T17:19:01.226Z"
      },
      {
        "duration": 5,
        "start_time": "2023-05-22T17:19:01.310Z"
      },
      {
        "duration": 58,
        "start_time": "2023-05-22T17:19:01.317Z"
      },
      {
        "duration": 73,
        "start_time": "2023-05-22T17:19:39.923Z"
      },
      {
        "duration": 92,
        "start_time": "2023-05-22T17:19:45.458Z"
      },
      {
        "duration": 85,
        "start_time": "2023-05-22T17:22:38.580Z"
      },
      {
        "duration": 1367,
        "start_time": "2023-05-23T08:06:39.786Z"
      },
      {
        "duration": 1075,
        "start_time": "2023-05-23T08:06:41.155Z"
      },
      {
        "duration": 13,
        "start_time": "2023-05-23T08:06:42.233Z"
      },
      {
        "duration": 25,
        "start_time": "2023-05-23T08:06:42.247Z"
      },
      {
        "duration": 99,
        "start_time": "2023-05-23T08:06:42.274Z"
      },
      {
        "duration": 84,
        "start_time": "2023-05-23T08:06:42.374Z"
      },
      {
        "duration": 6,
        "start_time": "2023-05-23T08:06:42.459Z"
      },
      {
        "duration": 102,
        "start_time": "2023-05-23T08:06:42.466Z"
      },
      {
        "duration": 4,
        "start_time": "2023-05-23T08:08:30.158Z"
      },
      {
        "duration": 323,
        "start_time": "2023-05-23T08:08:30.164Z"
      },
      {
        "duration": 10,
        "start_time": "2023-05-23T08:08:30.489Z"
      },
      {
        "duration": 127,
        "start_time": "2023-05-23T08:08:30.501Z"
      },
      {
        "duration": 143,
        "start_time": "2023-05-23T08:08:30.630Z"
      },
      {
        "duration": 2,
        "start_time": "2023-05-23T08:08:30.776Z"
      },
      {
        "duration": 100,
        "start_time": "2023-05-23T08:08:30.780Z"
      },
      {
        "duration": 208,
        "start_time": "2023-05-23T08:08:30.882Z"
      },
      {
        "duration": 166,
        "start_time": "2023-05-23T08:11:29.460Z"
      },
      {
        "duration": 89,
        "start_time": "2023-05-23T08:11:40.130Z"
      },
      {
        "duration": 23,
        "start_time": "2023-05-23T08:11:59.506Z"
      },
      {
        "duration": 122,
        "start_time": "2023-05-23T08:15:16.106Z"
      },
      {
        "duration": 103,
        "start_time": "2023-05-23T08:46:41.143Z"
      },
      {
        "duration": 26,
        "start_time": "2023-05-23T08:47:04.535Z"
      },
      {
        "duration": 7,
        "start_time": "2023-05-23T08:47:05.719Z"
      },
      {
        "duration": 12,
        "start_time": "2023-05-23T08:49:57.656Z"
      },
      {
        "duration": 14,
        "start_time": "2023-05-23T08:50:14.564Z"
      },
      {
        "duration": 12,
        "start_time": "2023-05-23T08:51:15.347Z"
      },
      {
        "duration": 17,
        "start_time": "2023-05-23T08:51:25.917Z"
      },
      {
        "duration": 619,
        "start_time": "2023-05-23T08:51:25.936Z"
      },
      {
        "duration": 13,
        "start_time": "2023-05-23T08:51:26.557Z"
      },
      {
        "duration": 70,
        "start_time": "2023-05-23T08:51:26.572Z"
      },
      {
        "duration": 101,
        "start_time": "2023-05-23T08:51:26.644Z"
      },
      {
        "duration": 59,
        "start_time": "2023-05-23T08:51:26.748Z"
      },
      {
        "duration": 6,
        "start_time": "2023-05-23T08:51:26.808Z"
      },
      {
        "duration": 108,
        "start_time": "2023-05-23T08:51:26.816Z"
      },
      {
        "duration": 26,
        "start_time": "2023-05-23T08:51:26.926Z"
      },
      {
        "duration": 9,
        "start_time": "2023-05-23T08:51:26.954Z"
      },
      {
        "duration": 28,
        "start_time": "2023-05-23T08:51:26.964Z"
      },
      {
        "duration": 29,
        "start_time": "2023-05-23T08:51:26.994Z"
      },
      {
        "duration": 72,
        "start_time": "2023-05-23T08:59:35.654Z"
      },
      {
        "duration": 2368,
        "start_time": "2023-05-23T09:07:17.610Z"
      },
      {
        "duration": 13,
        "start_time": "2023-05-23T09:07:22.524Z"
      },
      {
        "duration": 341,
        "start_time": "2023-05-23T09:07:22.539Z"
      },
      {
        "duration": 49,
        "start_time": "2023-05-23T09:07:22.881Z"
      },
      {
        "duration": 40,
        "start_time": "2023-05-23T09:07:22.931Z"
      },
      {
        "duration": 89,
        "start_time": "2023-05-23T09:07:22.974Z"
      },
      {
        "duration": 67,
        "start_time": "2023-05-23T09:07:23.065Z"
      },
      {
        "duration": 29,
        "start_time": "2023-05-23T09:07:23.141Z"
      },
      {
        "duration": 73,
        "start_time": "2023-05-23T09:07:23.172Z"
      },
      {
        "duration": 200,
        "start_time": "2023-05-23T09:07:23.247Z"
      },
      {
        "duration": 18,
        "start_time": "2023-05-23T09:07:23.449Z"
      },
      {
        "duration": 87,
        "start_time": "2023-05-23T09:07:23.469Z"
      },
      {
        "duration": 40,
        "start_time": "2023-05-23T09:07:23.558Z"
      },
      {
        "duration": 72,
        "start_time": "2023-05-23T09:07:23.599Z"
      },
      {
        "duration": 43,
        "start_time": "2023-05-23T09:07:23.673Z"
      },
      {
        "duration": 87,
        "start_time": "2023-05-23T09:11:43.363Z"
      },
      {
        "duration": 48,
        "start_time": "2023-05-23T09:12:50.360Z"
      },
      {
        "duration": 806,
        "start_time": "2023-05-23T09:13:16.270Z"
      },
      {
        "duration": 563,
        "start_time": "2023-05-23T09:14:24.022Z"
      },
      {
        "duration": 589,
        "start_time": "2023-05-23T09:14:32.574Z"
      },
      {
        "duration": 521,
        "start_time": "2023-05-23T09:14:49.258Z"
      },
      {
        "duration": 617,
        "start_time": "2023-05-23T09:15:31.129Z"
      },
      {
        "duration": 649,
        "start_time": "2023-05-23T09:16:19.332Z"
      },
      {
        "duration": 587,
        "start_time": "2023-05-23T09:16:51.923Z"
      },
      {
        "duration": 580,
        "start_time": "2023-05-23T09:18:31.277Z"
      },
      {
        "duration": 548,
        "start_time": "2023-05-23T09:19:04.709Z"
      },
      {
        "duration": 549,
        "start_time": "2023-05-23T09:19:20.222Z"
      },
      {
        "duration": 491,
        "start_time": "2023-05-23T09:19:39.911Z"
      },
      {
        "duration": 583,
        "start_time": "2023-05-23T09:19:54.043Z"
      },
      {
        "duration": 534,
        "start_time": "2023-05-23T09:20:03.827Z"
      },
      {
        "duration": 802,
        "start_time": "2023-05-23T09:38:34.950Z"
      },
      {
        "duration": 34,
        "start_time": "2023-05-23T09:40:39.868Z"
      },
      {
        "duration": 136,
        "start_time": "2023-05-23T09:43:48.517Z"
      },
      {
        "duration": 97,
        "start_time": "2023-05-23T09:43:55.584Z"
      },
      {
        "duration": 24,
        "start_time": "2023-05-23T09:46:49.835Z"
      },
      {
        "duration": 43,
        "start_time": "2023-05-23T09:48:36.366Z"
      },
      {
        "duration": 130,
        "start_time": "2023-05-23T09:51:48.877Z"
      },
      {
        "duration": 19,
        "start_time": "2023-05-23T09:58:29.614Z"
      },
      {
        "duration": 11,
        "start_time": "2023-05-23T09:59:56.148Z"
      },
      {
        "duration": 21,
        "start_time": "2023-05-23T10:01:18.211Z"
      },
      {
        "duration": 3,
        "start_time": "2023-05-23T10:01:18.727Z"
      },
      {
        "duration": 4,
        "start_time": "2023-05-23T10:02:14.569Z"
      },
      {
        "duration": 114,
        "start_time": "2023-05-23T10:05:09.725Z"
      },
      {
        "duration": 33,
        "start_time": "2023-05-23T10:05:20.228Z"
      },
      {
        "duration": 68,
        "start_time": "2023-05-23T10:05:41.170Z"
      },
      {
        "duration": 46,
        "start_time": "2023-05-23T10:06:21.676Z"
      },
      {
        "duration": 117,
        "start_time": "2023-05-23T10:12:32.160Z"
      },
      {
        "duration": 32,
        "start_time": "2023-05-23T10:12:38.331Z"
      },
      {
        "duration": 3,
        "start_time": "2023-05-23T10:23:32.945Z"
      },
      {
        "duration": 13,
        "start_time": "2023-05-23T10:23:59.564Z"
      },
      {
        "duration": 18,
        "start_time": "2023-05-23T10:24:10.947Z"
      },
      {
        "duration": 11,
        "start_time": "2023-05-23T10:25:07.109Z"
      },
      {
        "duration": 260,
        "start_time": "2023-05-23T10:25:07.122Z"
      },
      {
        "duration": 11,
        "start_time": "2023-05-23T10:25:07.384Z"
      },
      {
        "duration": 54,
        "start_time": "2023-05-23T10:25:07.397Z"
      },
      {
        "duration": 90,
        "start_time": "2023-05-23T10:25:07.453Z"
      },
      {
        "duration": 85,
        "start_time": "2023-05-23T10:25:07.544Z"
      },
      {
        "duration": 28,
        "start_time": "2023-05-23T10:25:07.631Z"
      },
      {
        "duration": 5,
        "start_time": "2023-05-23T10:25:07.661Z"
      },
      {
        "duration": 130,
        "start_time": "2023-05-23T10:25:07.668Z"
      },
      {
        "duration": 53,
        "start_time": "2023-05-23T10:25:07.799Z"
      },
      {
        "duration": 7,
        "start_time": "2023-05-23T10:25:07.853Z"
      },
      {
        "duration": 16,
        "start_time": "2023-05-23T10:25:07.861Z"
      },
      {
        "duration": 51,
        "start_time": "2023-05-23T10:25:07.897Z"
      },
      {
        "duration": 452,
        "start_time": "2023-05-23T10:25:07.950Z"
      },
      {
        "duration": 83,
        "start_time": "2023-05-23T10:25:08.423Z"
      },
      {
        "duration": 23,
        "start_time": "2023-05-23T10:25:08.509Z"
      },
      {
        "duration": 33,
        "start_time": "2023-05-23T10:25:08.533Z"
      },
      {
        "duration": 4,
        "start_time": "2023-05-23T10:45:09.239Z"
      },
      {
        "duration": 3,
        "start_time": "2023-05-23T10:45:27.461Z"
      },
      {
        "duration": 3,
        "start_time": "2023-05-23T10:45:33.257Z"
      },
      {
        "duration": 3,
        "start_time": "2023-05-23T10:45:58.945Z"
      },
      {
        "duration": 4,
        "start_time": "2023-05-23T10:46:51.956Z"
      },
      {
        "duration": 4,
        "start_time": "2023-05-23T10:47:30.239Z"
      },
      {
        "duration": 9,
        "start_time": "2023-05-23T10:47:59.969Z"
      },
      {
        "duration": 22,
        "start_time": "2023-05-23T11:02:14.803Z"
      },
      {
        "duration": 22,
        "start_time": "2023-05-23T11:02:37.609Z"
      },
      {
        "duration": 19,
        "start_time": "2023-05-23T11:02:41.538Z"
      },
      {
        "duration": 19,
        "start_time": "2023-05-23T11:03:07.908Z"
      },
      {
        "duration": 20,
        "start_time": "2023-05-23T11:03:15.853Z"
      },
      {
        "duration": 78,
        "start_time": "2023-05-23T11:16:13.240Z"
      },
      {
        "duration": 56,
        "start_time": "2023-05-23T11:20:05.521Z"
      },
      {
        "duration": 56,
        "start_time": "2023-05-23T11:27:05.100Z"
      },
      {
        "duration": 70,
        "start_time": "2023-05-23T11:27:21.677Z"
      },
      {
        "duration": 62,
        "start_time": "2023-05-23T11:27:49.742Z"
      },
      {
        "duration": 80,
        "start_time": "2023-05-23T11:52:57.147Z"
      },
      {
        "duration": 86,
        "start_time": "2023-05-23T12:32:37.539Z"
      },
      {
        "duration": 97,
        "start_time": "2023-05-23T12:33:50.681Z"
      },
      {
        "duration": 98,
        "start_time": "2023-05-23T12:36:04.265Z"
      },
      {
        "duration": 111,
        "start_time": "2023-05-23T12:37:50.765Z"
      },
      {
        "duration": 93,
        "start_time": "2023-05-23T12:57:23.035Z"
      },
      {
        "duration": 4,
        "start_time": "2023-05-23T13:00:17.267Z"
      },
      {
        "duration": 457,
        "start_time": "2023-05-23T13:00:17.273Z"
      },
      {
        "duration": 9,
        "start_time": "2023-05-23T13:00:17.739Z"
      },
      {
        "duration": 17,
        "start_time": "2023-05-23T13:00:17.749Z"
      },
      {
        "duration": 98,
        "start_time": "2023-05-23T13:00:17.769Z"
      },
      {
        "duration": 85,
        "start_time": "2023-05-23T13:00:17.869Z"
      },
      {
        "duration": 21,
        "start_time": "2023-05-23T13:00:17.956Z"
      },
      {
        "duration": 72,
        "start_time": "2023-05-23T13:00:17.979Z"
      },
      {
        "duration": 104,
        "start_time": "2023-05-23T13:00:18.053Z"
      },
      {
        "duration": 54,
        "start_time": "2023-05-23T13:00:18.160Z"
      },
      {
        "duration": 8,
        "start_time": "2023-05-23T13:00:18.234Z"
      },
      {
        "duration": 37,
        "start_time": "2023-05-23T13:00:18.244Z"
      },
      {
        "duration": 123,
        "start_time": "2023-05-23T13:00:18.283Z"
      },
      {
        "duration": 502,
        "start_time": "2023-05-23T13:00:18.424Z"
      },
      {
        "duration": 75,
        "start_time": "2023-05-23T13:00:18.927Z"
      },
      {
        "duration": 28,
        "start_time": "2023-05-23T13:00:19.014Z"
      },
      {
        "duration": 82,
        "start_time": "2023-05-23T13:00:19.044Z"
      },
      {
        "duration": 4,
        "start_time": "2023-05-23T13:00:19.133Z"
      },
      {
        "duration": 35,
        "start_time": "2023-05-23T13:00:19.138Z"
      },
      {
        "duration": 128,
        "start_time": "2023-05-23T13:00:19.175Z"
      },
      {
        "duration": 150,
        "start_time": "2023-05-23T13:29:35.775Z"
      },
      {
        "duration": 126,
        "start_time": "2023-05-23T13:29:45.439Z"
      },
      {
        "duration": 157,
        "start_time": "2023-05-23T13:31:25.114Z"
      },
      {
        "duration": 165,
        "start_time": "2023-05-23T13:33:39.738Z"
      },
      {
        "duration": 4,
        "start_time": "2023-05-23T13:42:34.324Z"
      },
      {
        "duration": 4,
        "start_time": "2023-05-23T13:44:34.973Z"
      },
      {
        "duration": 358,
        "start_time": "2023-05-23T13:52:31.799Z"
      },
      {
        "duration": 306,
        "start_time": "2023-05-23T13:55:42.666Z"
      },
      {
        "duration": 336,
        "start_time": "2023-05-23T13:56:13.429Z"
      },
      {
        "duration": 235,
        "start_time": "2023-05-23T13:56:21.841Z"
      },
      {
        "duration": 250,
        "start_time": "2023-05-23T13:56:49.341Z"
      },
      {
        "duration": 258,
        "start_time": "2023-05-23T13:56:57.660Z"
      },
      {
        "duration": 290,
        "start_time": "2023-05-23T13:57:22.383Z"
      },
      {
        "duration": 241,
        "start_time": "2023-05-23T13:57:29.332Z"
      },
      {
        "duration": 271,
        "start_time": "2023-05-23T13:58:36.782Z"
      },
      {
        "duration": 257,
        "start_time": "2023-05-23T13:58:56.407Z"
      },
      {
        "duration": 217,
        "start_time": "2023-05-23T14:13:21.056Z"
      },
      {
        "duration": 3157,
        "start_time": "2023-05-23T14:14:31.172Z"
      },
      {
        "duration": 269,
        "start_time": "2023-05-23T14:15:33.315Z"
      },
      {
        "duration": 175,
        "start_time": "2023-05-23T14:16:19.879Z"
      },
      {
        "duration": 405,
        "start_time": "2023-05-23T14:16:30.476Z"
      },
      {
        "duration": 226,
        "start_time": "2023-05-23T14:17:23.521Z"
      },
      {
        "duration": 241,
        "start_time": "2023-05-23T14:17:30.023Z"
      },
      {
        "duration": 218,
        "start_time": "2023-05-23T14:17:55.839Z"
      },
      {
        "duration": 162,
        "start_time": "2023-05-23T14:26:58.614Z"
      },
      {
        "duration": 296,
        "start_time": "2023-05-23T14:28:30.817Z"
      },
      {
        "duration": 213,
        "start_time": "2023-05-23T14:28:39.040Z"
      },
      {
        "duration": 236,
        "start_time": "2023-05-23T14:28:48.007Z"
      },
      {
        "duration": 209,
        "start_time": "2023-05-23T14:36:10.937Z"
      },
      {
        "duration": 253,
        "start_time": "2023-05-23T14:36:42.376Z"
      },
      {
        "duration": 207,
        "start_time": "2023-05-23T14:36:48.673Z"
      },
      {
        "duration": 526,
        "start_time": "2023-05-23T14:42:02.309Z"
      },
      {
        "duration": 33,
        "start_time": "2023-05-23T14:42:28.715Z"
      },
      {
        "duration": 315,
        "start_time": "2023-05-23T14:46:02.536Z"
      },
      {
        "duration": 1219,
        "start_time": "2023-05-23T19:16:14.457Z"
      },
      {
        "duration": 619,
        "start_time": "2023-05-23T19:16:15.678Z"
      },
      {
        "duration": 15,
        "start_time": "2023-05-23T19:16:16.299Z"
      },
      {
        "duration": 31,
        "start_time": "2023-05-23T19:16:16.316Z"
      },
      {
        "duration": 77,
        "start_time": "2023-05-23T19:16:16.350Z"
      },
      {
        "duration": 91,
        "start_time": "2023-05-23T19:16:16.429Z"
      },
      {
        "duration": 29,
        "start_time": "2023-05-23T19:16:16.522Z"
      },
      {
        "duration": 12,
        "start_time": "2023-05-23T19:16:16.552Z"
      },
      {
        "duration": 101,
        "start_time": "2023-05-23T19:16:16.566Z"
      },
      {
        "duration": 32,
        "start_time": "2023-05-23T19:16:16.669Z"
      },
      {
        "duration": 9,
        "start_time": "2023-05-23T19:16:16.703Z"
      },
      {
        "duration": 41,
        "start_time": "2023-05-23T19:16:16.714Z"
      },
      {
        "duration": 42,
        "start_time": "2023-05-23T19:16:16.758Z"
      },
      {
        "duration": 547,
        "start_time": "2023-05-23T19:16:16.803Z"
      },
      {
        "duration": 57,
        "start_time": "2023-05-23T19:16:17.352Z"
      },
      {
        "duration": 16,
        "start_time": "2023-05-23T19:16:17.410Z"
      },
      {
        "duration": 202,
        "start_time": "2023-05-23T19:16:17.447Z"
      },
      {
        "duration": 4,
        "start_time": "2023-05-23T19:16:17.650Z"
      },
      {
        "duration": 179,
        "start_time": "2023-05-23T19:16:17.655Z"
      },
      {
        "duration": 271,
        "start_time": "2023-05-23T19:16:17.837Z"
      },
      {
        "duration": 235,
        "start_time": "2023-05-23T19:20:06.179Z"
      },
      {
        "duration": 32,
        "start_time": "2023-05-23T19:33:55.852Z"
      },
      {
        "duration": 3,
        "start_time": "2023-05-23T20:33:55.334Z"
      },
      {
        "duration": 3,
        "start_time": "2023-05-23T20:35:17.278Z"
      },
      {
        "duration": 77,
        "start_time": "2023-05-23T20:46:05.002Z"
      },
      {
        "duration": 94,
        "start_time": "2023-05-23T20:46:43.186Z"
      },
      {
        "duration": 105,
        "start_time": "2023-05-23T20:48:23.048Z"
      },
      {
        "duration": 40,
        "start_time": "2023-05-23T20:51:43.075Z"
      },
      {
        "duration": 1351,
        "start_time": "2023-05-23T20:57:23.643Z"
      },
      {
        "duration": 4,
        "start_time": "2023-05-23T20:57:40.619Z"
      },
      {
        "duration": 234,
        "start_time": "2023-05-23T20:57:40.625Z"
      },
      {
        "duration": 11,
        "start_time": "2023-05-23T20:57:40.861Z"
      },
      {
        "duration": 24,
        "start_time": "2023-05-23T20:57:40.873Z"
      },
      {
        "duration": 87,
        "start_time": "2023-05-23T20:57:40.899Z"
      },
      {
        "duration": 67,
        "start_time": "2023-05-23T20:57:40.988Z"
      },
      {
        "duration": 19,
        "start_time": "2023-05-23T20:57:41.057Z"
      },
      {
        "duration": 9,
        "start_time": "2023-05-23T20:57:41.078Z"
      },
      {
        "duration": 102,
        "start_time": "2023-05-23T20:57:41.089Z"
      },
      {
        "duration": 29,
        "start_time": "2023-05-23T20:57:41.193Z"
      },
      {
        "duration": 22,
        "start_time": "2023-05-23T20:57:41.224Z"
      },
      {
        "duration": 16,
        "start_time": "2023-05-23T20:57:41.248Z"
      },
      {
        "duration": 34,
        "start_time": "2023-05-23T20:57:41.265Z"
      },
      {
        "duration": 462,
        "start_time": "2023-05-23T20:57:41.302Z"
      },
      {
        "duration": 57,
        "start_time": "2023-05-23T20:57:41.766Z"
      },
      {
        "duration": 40,
        "start_time": "2023-05-23T20:57:41.826Z"
      },
      {
        "duration": 215,
        "start_time": "2023-05-23T20:57:41.869Z"
      },
      {
        "duration": 4,
        "start_time": "2023-05-23T20:57:42.086Z"
      },
      {
        "duration": 196,
        "start_time": "2023-05-23T20:57:42.092Z"
      },
      {
        "duration": 323,
        "start_time": "2023-05-23T20:57:42.289Z"
      },
      {
        "duration": 46,
        "start_time": "2023-05-23T20:57:42.614Z"
      },
      {
        "duration": 4,
        "start_time": "2023-05-23T20:57:42.662Z"
      },
      {
        "duration": 1199,
        "start_time": "2023-05-23T20:57:42.668Z"
      },
      {
        "duration": 34,
        "start_time": "2023-05-23T20:58:44.103Z"
      },
      {
        "duration": 3,
        "start_time": "2023-05-23T20:58:47.265Z"
      },
      {
        "duration": 1223,
        "start_time": "2023-05-23T20:58:48.424Z"
      },
      {
        "duration": 1240,
        "start_time": "2023-05-23T21:00:40.762Z"
      },
      {
        "duration": 36,
        "start_time": "2023-05-23T21:01:34.855Z"
      },
      {
        "duration": 1903,
        "start_time": "2023-05-23T21:01:47.671Z"
      },
      {
        "duration": 34,
        "start_time": "2023-05-23T21:04:03.773Z"
      },
      {
        "duration": 3,
        "start_time": "2023-05-23T21:04:04.733Z"
      },
      {
        "duration": 1227,
        "start_time": "2023-05-23T21:04:05.781Z"
      },
      {
        "duration": 62,
        "start_time": "2023-05-23T21:04:33.278Z"
      },
      {
        "duration": 69,
        "start_time": "2023-05-23T21:04:46.126Z"
      },
      {
        "duration": 73,
        "start_time": "2023-05-23T21:06:59.298Z"
      },
      {
        "duration": 11,
        "start_time": "2023-05-23T21:07:30.339Z"
      },
      {
        "duration": 1498,
        "start_time": "2023-05-23T21:07:39.181Z"
      },
      {
        "duration": 74,
        "start_time": "2023-05-23T21:08:30.634Z"
      },
      {
        "duration": 64,
        "start_time": "2023-05-23T21:09:32.143Z"
      },
      {
        "duration": 94,
        "start_time": "2023-05-23T21:09:42.462Z"
      },
      {
        "duration": 3,
        "start_time": "2023-05-23T21:28:49.005Z"
      },
      {
        "duration": 12,
        "start_time": "2023-05-23T21:30:51.631Z"
      },
      {
        "duration": 5,
        "start_time": "2023-05-23T21:32:11.392Z"
      },
      {
        "duration": 7,
        "start_time": "2023-05-23T21:32:16.129Z"
      },
      {
        "duration": 7,
        "start_time": "2023-05-23T21:48:21.935Z"
      },
      {
        "duration": 9,
        "start_time": "2023-05-23T22:05:38.776Z"
      },
      {
        "duration": 81,
        "start_time": "2023-05-23T22:05:42.623Z"
      },
      {
        "duration": 83,
        "start_time": "2023-05-23T22:06:38.020Z"
      },
      {
        "duration": 4,
        "start_time": "2023-05-23T22:08:28.182Z"
      },
      {
        "duration": 4,
        "start_time": "2023-05-23T22:08:29.847Z"
      },
      {
        "duration": 4,
        "start_time": "2023-05-23T22:09:45.154Z"
      },
      {
        "duration": 5,
        "start_time": "2023-05-23T22:10:29.838Z"
      },
      {
        "duration": 5,
        "start_time": "2023-05-23T22:25:18.340Z"
      },
      {
        "duration": 5,
        "start_time": "2023-05-23T22:27:06.142Z"
      },
      {
        "duration": 4,
        "start_time": "2023-05-23T22:28:11.761Z"
      },
      {
        "duration": 5,
        "start_time": "2023-05-23T22:29:09.302Z"
      },
      {
        "duration": 5,
        "start_time": "2023-05-23T22:37:53.840Z"
      },
      {
        "duration": 4,
        "start_time": "2023-05-23T22:39:04.988Z"
      },
      {
        "duration": 5,
        "start_time": "2023-05-23T22:40:12.578Z"
      },
      {
        "duration": 5,
        "start_time": "2023-05-23T22:43:05.586Z"
      },
      {
        "duration": 1245,
        "start_time": "2023-05-24T07:14:57.665Z"
      },
      {
        "duration": 662,
        "start_time": "2023-05-24T07:14:58.913Z"
      },
      {
        "duration": 13,
        "start_time": "2023-05-24T07:14:59.577Z"
      },
      {
        "duration": 29,
        "start_time": "2023-05-24T07:14:59.592Z"
      },
      {
        "duration": 78,
        "start_time": "2023-05-24T07:14:59.623Z"
      },
      {
        "duration": 66,
        "start_time": "2023-05-24T07:14:59.704Z"
      },
      {
        "duration": 35,
        "start_time": "2023-05-24T07:14:59.772Z"
      },
      {
        "duration": 20,
        "start_time": "2023-05-24T07:14:59.809Z"
      },
      {
        "duration": 88,
        "start_time": "2023-05-24T07:14:59.830Z"
      },
      {
        "duration": 29,
        "start_time": "2023-05-24T07:14:59.920Z"
      },
      {
        "duration": 10,
        "start_time": "2023-05-24T07:14:59.950Z"
      },
      {
        "duration": 18,
        "start_time": "2023-05-24T07:14:59.962Z"
      },
      {
        "duration": 52,
        "start_time": "2023-05-24T07:14:59.981Z"
      },
      {
        "duration": 585,
        "start_time": "2023-05-24T07:15:00.036Z"
      },
      {
        "duration": 49,
        "start_time": "2023-05-24T07:15:00.623Z"
      },
      {
        "duration": 67,
        "start_time": "2023-05-24T07:15:00.673Z"
      },
      {
        "duration": 210,
        "start_time": "2023-05-24T07:15:00.741Z"
      },
      {
        "duration": 3,
        "start_time": "2023-05-24T07:15:00.952Z"
      },
      {
        "duration": 193,
        "start_time": "2023-05-24T07:15:00.957Z"
      },
      {
        "duration": 265,
        "start_time": "2023-05-24T07:15:01.151Z"
      },
      {
        "duration": 144,
        "start_time": "2023-05-24T07:15:01.418Z"
      },
      {
        "duration": 0,
        "start_time": "2023-05-24T07:15:01.564Z"
      },
      {
        "duration": 0,
        "start_time": "2023-05-24T07:15:01.565Z"
      },
      {
        "duration": 0,
        "start_time": "2023-05-24T07:15:01.566Z"
      },
      {
        "duration": 0,
        "start_time": "2023-05-24T07:15:01.567Z"
      },
      {
        "duration": 0,
        "start_time": "2023-05-24T07:15:01.568Z"
      },
      {
        "duration": 0,
        "start_time": "2023-05-24T07:15:01.569Z"
      },
      {
        "duration": 0,
        "start_time": "2023-05-24T07:15:01.570Z"
      },
      {
        "duration": 0,
        "start_time": "2023-05-24T07:15:01.571Z"
      },
      {
        "duration": 0,
        "start_time": "2023-05-24T07:15:01.572Z"
      },
      {
        "duration": 0,
        "start_time": "2023-05-24T07:15:01.573Z"
      },
      {
        "duration": 0,
        "start_time": "2023-05-24T07:15:01.575Z"
      },
      {
        "duration": 0,
        "start_time": "2023-05-24T07:15:01.600Z"
      },
      {
        "duration": 0,
        "start_time": "2023-05-24T07:15:01.601Z"
      },
      {
        "duration": 0,
        "start_time": "2023-05-24T07:15:01.602Z"
      },
      {
        "duration": 0,
        "start_time": "2023-05-24T07:15:01.603Z"
      },
      {
        "duration": 0,
        "start_time": "2023-05-24T07:15:01.604Z"
      },
      {
        "duration": 30,
        "start_time": "2023-05-24T07:15:33.353Z"
      },
      {
        "duration": 3,
        "start_time": "2023-05-24T07:15:40.576Z"
      },
      {
        "duration": 93,
        "start_time": "2023-05-24T07:15:41.489Z"
      },
      {
        "duration": 9,
        "start_time": "2023-05-24T07:15:42.436Z"
      },
      {
        "duration": 4,
        "start_time": "2023-05-24T07:15:43.364Z"
      },
      {
        "duration": 6,
        "start_time": "2023-05-24T07:15:43.805Z"
      },
      {
        "duration": 4,
        "start_time": "2023-05-24T07:15:44.260Z"
      },
      {
        "duration": 6,
        "start_time": "2023-05-24T07:15:44.722Z"
      },
      {
        "duration": 4,
        "start_time": "2023-05-24T07:15:46.072Z"
      },
      {
        "duration": 11,
        "start_time": "2023-05-24T07:15:46.496Z"
      },
      {
        "duration": 4,
        "start_time": "2023-05-24T07:15:46.976Z"
      },
      {
        "duration": 4,
        "start_time": "2023-05-24T07:15:47.357Z"
      },
      {
        "duration": 4,
        "start_time": "2023-05-24T07:15:48.709Z"
      },
      {
        "duration": 4,
        "start_time": "2023-05-24T07:15:49.112Z"
      },
      {
        "duration": 5,
        "start_time": "2023-05-24T07:15:49.557Z"
      },
      {
        "duration": 5,
        "start_time": "2023-05-24T07:15:49.957Z"
      },
      {
        "duration": 2320,
        "start_time": "2023-05-24T07:15:50.853Z"
      },
      {
        "duration": 37,
        "start_time": "2023-05-24T07:17:15.580Z"
      },
      {
        "duration": 6,
        "start_time": "2023-05-24T07:17:35.676Z"
      },
      {
        "duration": 13,
        "start_time": "2023-05-24T07:17:40.491Z"
      },
      {
        "duration": 5,
        "start_time": "2023-05-24T07:17:42.860Z"
      },
      {
        "duration": 6,
        "start_time": "2023-05-24T07:17:44.949Z"
      },
      {
        "duration": 6,
        "start_time": "2023-05-24T07:17:45.792Z"
      },
      {
        "duration": 5,
        "start_time": "2023-05-24T07:17:51.393Z"
      },
      {
        "duration": 7,
        "start_time": "2023-05-24T07:17:52.205Z"
      },
      {
        "duration": 6,
        "start_time": "2023-05-24T07:17:52.964Z"
      },
      {
        "duration": 5,
        "start_time": "2023-05-24T07:17:53.625Z"
      },
      {
        "duration": 5,
        "start_time": "2023-05-24T07:17:56.008Z"
      },
      {
        "duration": 4,
        "start_time": "2023-05-24T07:17:56.720Z"
      },
      {
        "duration": 5,
        "start_time": "2023-05-24T07:17:57.386Z"
      },
      {
        "duration": 4,
        "start_time": "2023-05-24T07:17:58.069Z"
      },
      {
        "duration": 6,
        "start_time": "2023-05-24T07:36:23.261Z"
      },
      {
        "duration": 7,
        "start_time": "2023-05-24T07:36:53.972Z"
      },
      {
        "duration": 3,
        "start_time": "2023-05-24T07:40:04.313Z"
      },
      {
        "duration": 289,
        "start_time": "2023-05-24T07:40:04.318Z"
      },
      {
        "duration": 11,
        "start_time": "2023-05-24T07:40:04.610Z"
      },
      {
        "duration": 38,
        "start_time": "2023-05-24T07:40:04.624Z"
      },
      {
        "duration": 74,
        "start_time": "2023-05-24T07:40:04.664Z"
      },
      {
        "duration": 58,
        "start_time": "2023-05-24T07:40:04.740Z"
      },
      {
        "duration": 24,
        "start_time": "2023-05-24T07:40:04.800Z"
      },
      {
        "duration": 12,
        "start_time": "2023-05-24T07:40:04.826Z"
      },
      {
        "duration": 93,
        "start_time": "2023-05-24T07:40:04.840Z"
      },
      {
        "duration": 26,
        "start_time": "2023-05-24T07:40:04.937Z"
      },
      {
        "duration": 7,
        "start_time": "2023-05-24T07:40:04.965Z"
      },
      {
        "duration": 44,
        "start_time": "2023-05-24T07:40:04.973Z"
      },
      {
        "duration": 32,
        "start_time": "2023-05-24T07:40:05.019Z"
      },
      {
        "duration": 420,
        "start_time": "2023-05-24T07:40:05.053Z"
      },
      {
        "duration": 65,
        "start_time": "2023-05-24T07:40:05.475Z"
      },
      {
        "duration": 13,
        "start_time": "2023-05-24T07:40:05.542Z"
      },
      {
        "duration": 208,
        "start_time": "2023-05-24T07:40:05.557Z"
      },
      {
        "duration": 3,
        "start_time": "2023-05-24T07:40:05.766Z"
      },
      {
        "duration": 161,
        "start_time": "2023-05-24T07:40:05.770Z"
      },
      {
        "duration": 249,
        "start_time": "2023-05-24T07:40:05.933Z"
      },
      {
        "duration": 48,
        "start_time": "2023-05-24T07:40:06.183Z"
      },
      {
        "duration": 2,
        "start_time": "2023-05-24T07:40:06.233Z"
      },
      {
        "duration": 119,
        "start_time": "2023-05-24T07:40:06.236Z"
      },
      {
        "duration": 6,
        "start_time": "2023-05-24T07:40:06.356Z"
      },
      {
        "duration": 19,
        "start_time": "2023-05-24T07:40:06.364Z"
      },
      {
        "duration": 74,
        "start_time": "2023-05-24T07:40:06.384Z"
      },
      {
        "duration": 18,
        "start_time": "2023-05-24T07:40:06.460Z"
      },
      {
        "duration": 10,
        "start_time": "2023-05-24T07:40:06.481Z"
      },
      {
        "duration": 20,
        "start_time": "2023-05-24T07:40:06.492Z"
      },
      {
        "duration": 46,
        "start_time": "2023-05-24T07:40:06.513Z"
      },
      {
        "duration": 26,
        "start_time": "2023-05-24T07:40:06.561Z"
      },
      {
        "duration": 36,
        "start_time": "2023-05-24T07:40:06.590Z"
      },
      {
        "duration": 36,
        "start_time": "2023-05-24T07:40:06.627Z"
      },
      {
        "duration": 57,
        "start_time": "2023-05-24T07:40:06.665Z"
      },
      {
        "duration": 42,
        "start_time": "2023-05-24T07:40:06.723Z"
      },
      {
        "duration": 10,
        "start_time": "2023-05-24T07:40:06.766Z"
      },
      {
        "duration": 2446,
        "start_time": "2023-05-24T07:53:59.949Z"
      },
      {
        "duration": 5,
        "start_time": "2023-05-24T07:55:42.853Z"
      },
      {
        "duration": 9,
        "start_time": "2023-05-24T07:55:50.767Z"
      },
      {
        "duration": 5,
        "start_time": "2023-05-24T07:57:47.049Z"
      },
      {
        "duration": 12,
        "start_time": "2023-05-24T07:57:54.416Z"
      },
      {
        "duration": 9,
        "start_time": "2023-05-24T07:58:19.278Z"
      },
      {
        "duration": 12,
        "start_time": "2023-05-24T08:01:45.190Z"
      },
      {
        "duration": 92,
        "start_time": "2023-05-24T08:08:24.773Z"
      },
      {
        "duration": 1342,
        "start_time": "2023-05-24T08:08:50.253Z"
      },
      {
        "duration": 5,
        "start_time": "2023-05-24T08:09:20.274Z"
      },
      {
        "duration": 5,
        "start_time": "2023-05-24T08:12:04.976Z"
      },
      {
        "duration": 4,
        "start_time": "2023-05-24T08:12:26.888Z"
      },
      {
        "duration": 5,
        "start_time": "2023-05-24T08:20:28.784Z"
      },
      {
        "duration": 4,
        "start_time": "2023-05-24T08:20:51.774Z"
      },
      {
        "duration": 51,
        "start_time": "2023-05-24T15:02:09.148Z"
      },
      {
        "duration": 1333,
        "start_time": "2023-05-24T15:02:12.768Z"
      },
      {
        "duration": 663,
        "start_time": "2023-05-24T15:02:14.104Z"
      },
      {
        "duration": 14,
        "start_time": "2023-05-24T15:02:14.769Z"
      },
      {
        "duration": 29,
        "start_time": "2023-05-24T15:02:14.784Z"
      },
      {
        "duration": 74,
        "start_time": "2023-05-24T15:02:14.815Z"
      },
      {
        "duration": 88,
        "start_time": "2023-05-24T15:02:14.890Z"
      },
      {
        "duration": 37,
        "start_time": "2023-05-24T15:02:14.980Z"
      },
      {
        "duration": 45,
        "start_time": "2023-05-24T15:02:15.018Z"
      },
      {
        "duration": 104,
        "start_time": "2023-05-24T15:02:15.065Z"
      },
      {
        "duration": 43,
        "start_time": "2023-05-24T15:02:15.170Z"
      },
      {
        "duration": 31,
        "start_time": "2023-05-24T15:02:15.215Z"
      },
      {
        "duration": 35,
        "start_time": "2023-05-24T15:02:15.248Z"
      },
      {
        "duration": 70,
        "start_time": "2023-05-24T15:02:15.285Z"
      },
      {
        "duration": 596,
        "start_time": "2023-05-24T15:02:15.359Z"
      },
      {
        "duration": 66,
        "start_time": "2023-05-24T15:02:15.957Z"
      },
      {
        "duration": 18,
        "start_time": "2023-05-24T15:02:16.025Z"
      },
      {
        "duration": 238,
        "start_time": "2023-05-24T15:02:16.045Z"
      },
      {
        "duration": 4,
        "start_time": "2023-05-24T15:02:16.285Z"
      },
      {
        "duration": 215,
        "start_time": "2023-05-24T15:02:16.291Z"
      },
      {
        "duration": 344,
        "start_time": "2023-05-24T15:02:16.508Z"
      },
      {
        "duration": 55,
        "start_time": "2023-05-24T15:02:16.854Z"
      },
      {
        "duration": 5,
        "start_time": "2023-05-24T15:02:16.912Z"
      },
      {
        "duration": 112,
        "start_time": "2023-05-24T15:02:16.919Z"
      },
      {
        "duration": 7,
        "start_time": "2023-05-24T15:02:17.033Z"
      },
      {
        "duration": 6,
        "start_time": "2023-05-24T15:02:17.042Z"
      },
      {
        "duration": 11,
        "start_time": "2023-05-24T15:02:17.049Z"
      },
      {
        "duration": 7,
        "start_time": "2023-05-24T15:02:17.061Z"
      },
      {
        "duration": 9,
        "start_time": "2023-05-24T15:02:17.070Z"
      },
      {
        "duration": 19,
        "start_time": "2023-05-24T15:02:17.081Z"
      },
      {
        "duration": 13,
        "start_time": "2023-05-24T15:02:17.103Z"
      },
      {
        "duration": 8,
        "start_time": "2023-05-24T15:02:17.118Z"
      },
      {
        "duration": 7,
        "start_time": "2023-05-24T15:02:17.127Z"
      },
      {
        "duration": 39,
        "start_time": "2023-05-24T15:02:17.136Z"
      },
      {
        "duration": 31,
        "start_time": "2023-05-24T15:02:17.177Z"
      },
      {
        "duration": 16,
        "start_time": "2023-05-24T15:02:17.210Z"
      },
      {
        "duration": 16,
        "start_time": "2023-05-24T15:02:17.228Z"
      },
      {
        "duration": 20,
        "start_time": "2023-05-24T15:02:17.245Z"
      },
      {
        "duration": 15,
        "start_time": "2023-05-24T15:02:17.266Z"
      },
      {
        "duration": 7,
        "start_time": "2023-05-24T15:02:17.283Z"
      },
      {
        "duration": 32,
        "start_time": "2023-05-24T15:02:17.292Z"
      },
      {
        "duration": 4,
        "start_time": "2023-05-24T15:05:37.815Z"
      },
      {
        "duration": 5,
        "start_time": "2023-05-24T15:11:41.372Z"
      },
      {
        "duration": 4,
        "start_time": "2023-05-24T15:13:16.398Z"
      },
      {
        "duration": 5,
        "start_time": "2023-05-24T15:14:15.986Z"
      },
      {
        "duration": 6,
        "start_time": "2023-05-24T15:16:54.494Z"
      },
      {
        "duration": 5,
        "start_time": "2023-05-24T15:18:17.162Z"
      },
      {
        "duration": 5,
        "start_time": "2023-05-24T15:20:43.570Z"
      },
      {
        "duration": 5,
        "start_time": "2023-05-24T15:22:28.344Z"
      },
      {
        "duration": 5,
        "start_time": "2023-05-24T15:23:29.550Z"
      },
      {
        "duration": 5,
        "start_time": "2023-05-24T15:24:25.064Z"
      },
      {
        "duration": 5,
        "start_time": "2023-05-24T15:24:29.055Z"
      },
      {
        "duration": 5,
        "start_time": "2023-05-24T15:26:04.674Z"
      },
      {
        "duration": 3,
        "start_time": "2023-05-24T15:26:14.545Z"
      },
      {
        "duration": 287,
        "start_time": "2023-05-24T15:26:14.550Z"
      },
      {
        "duration": 10,
        "start_time": "2023-05-24T15:26:14.839Z"
      },
      {
        "duration": 32,
        "start_time": "2023-05-24T15:26:14.851Z"
      },
      {
        "duration": 87,
        "start_time": "2023-05-24T15:26:14.886Z"
      },
      {
        "duration": 63,
        "start_time": "2023-05-24T15:26:14.975Z"
      },
      {
        "duration": 19,
        "start_time": "2023-05-24T15:26:15.040Z"
      },
      {
        "duration": 29,
        "start_time": "2023-05-24T15:26:15.061Z"
      },
      {
        "duration": 136,
        "start_time": "2023-05-24T15:26:15.091Z"
      },
      {
        "duration": 30,
        "start_time": "2023-05-24T15:26:15.229Z"
      },
      {
        "duration": 12,
        "start_time": "2023-05-24T15:26:15.261Z"
      },
      {
        "duration": 30,
        "start_time": "2023-05-24T15:26:15.275Z"
      },
      {
        "duration": 41,
        "start_time": "2023-05-24T15:26:15.307Z"
      },
      {
        "duration": 505,
        "start_time": "2023-05-24T15:26:15.353Z"
      },
      {
        "duration": 66,
        "start_time": "2023-05-24T15:26:15.861Z"
      },
      {
        "duration": 15,
        "start_time": "2023-05-24T15:26:15.929Z"
      },
      {
        "duration": 236,
        "start_time": "2023-05-24T15:26:15.946Z"
      },
      {
        "duration": 4,
        "start_time": "2023-05-24T15:26:16.185Z"
      },
      {
        "duration": 188,
        "start_time": "2023-05-24T15:26:16.197Z"
      },
      {
        "duration": 282,
        "start_time": "2023-05-24T15:26:16.387Z"
      },
      {
        "duration": 54,
        "start_time": "2023-05-24T15:26:16.671Z"
      },
      {
        "duration": 3,
        "start_time": "2023-05-24T15:26:16.727Z"
      },
      {
        "duration": 111,
        "start_time": "2023-05-24T15:26:16.733Z"
      },
      {
        "duration": 10,
        "start_time": "2023-05-24T15:26:16.846Z"
      },
      {
        "duration": 22,
        "start_time": "2023-05-24T15:26:16.859Z"
      },
      {
        "duration": 41,
        "start_time": "2023-05-24T15:26:16.883Z"
      },
      {
        "duration": 27,
        "start_time": "2023-05-24T15:26:16.926Z"
      },
      {
        "duration": 10,
        "start_time": "2023-05-24T15:26:16.955Z"
      },
      {
        "duration": 29,
        "start_time": "2023-05-24T15:26:16.967Z"
      },
      {
        "duration": 11,
        "start_time": "2023-05-24T15:26:16.998Z"
      },
      {
        "duration": 11,
        "start_time": "2023-05-24T15:26:17.011Z"
      },
      {
        "duration": 23,
        "start_time": "2023-05-24T15:26:17.024Z"
      },
      {
        "duration": 12,
        "start_time": "2023-05-24T15:26:17.049Z"
      },
      {
        "duration": 17,
        "start_time": "2023-05-24T15:26:17.063Z"
      },
      {
        "duration": 13,
        "start_time": "2023-05-24T15:26:17.083Z"
      },
      {
        "duration": 32,
        "start_time": "2023-05-24T15:26:17.112Z"
      },
      {
        "duration": 13,
        "start_time": "2023-05-24T15:26:17.146Z"
      },
      {
        "duration": 15,
        "start_time": "2023-05-24T15:26:17.161Z"
      },
      {
        "duration": 20,
        "start_time": "2023-05-24T15:26:17.178Z"
      },
      {
        "duration": 38,
        "start_time": "2023-05-24T15:26:17.200Z"
      },
      {
        "duration": 14,
        "start_time": "2023-05-24T15:26:17.241Z"
      },
      {
        "duration": 26,
        "start_time": "2023-05-24T15:26:17.257Z"
      },
      {
        "duration": 22,
        "start_time": "2023-05-24T15:26:17.286Z"
      },
      {
        "duration": 15,
        "start_time": "2023-05-24T15:26:17.309Z"
      },
      {
        "duration": 8,
        "start_time": "2023-05-24T15:26:17.325Z"
      },
      {
        "duration": 16,
        "start_time": "2023-05-24T15:26:17.334Z"
      },
      {
        "duration": 10,
        "start_time": "2023-05-24T15:26:17.352Z"
      },
      {
        "duration": 13,
        "start_time": "2023-05-24T15:26:17.364Z"
      },
      {
        "duration": 20,
        "start_time": "2023-05-24T15:26:17.379Z"
      },
      {
        "duration": 6,
        "start_time": "2023-05-24T15:31:00.648Z"
      }
    ],
    "kernelspec": {
      "display_name": "Python 3 (ipykernel)",
      "language": "python",
      "name": "python3"
    },
    "language_info": {
      "codemirror_mode": {
        "name": "ipython",
        "version": 3
      },
      "file_extension": ".py",
      "mimetype": "text/x-python",
      "name": "python",
      "nbconvert_exporter": "python",
      "pygments_lexer": "ipython3",
      "version": "3.9.5"
    },
    "toc": {
      "base_numbering": 1,
      "nav_menu": {},
      "number_sections": true,
      "sideBar": true,
      "skip_h1_title": true,
      "title_cell": "Table of Contents",
      "title_sidebar": "Contents",
      "toc_cell": false,
      "toc_position": {
        "height": "calc(100% - 180px)",
        "left": "10px",
        "top": "150px",
        "width": "443.448px"
      },
      "toc_section_display": true,
      "toc_window_display": true
    },
    "colab": {
      "provenance": [],
      "include_colab_link": true
    }
  },
  "nbformat": 4,
  "nbformat_minor": 0
}